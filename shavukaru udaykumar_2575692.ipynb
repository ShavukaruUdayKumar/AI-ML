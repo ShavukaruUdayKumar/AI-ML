{
 "cells": [
  {
   "cell_type": "markdown",
   "id": "a31a8c1b",
   "metadata": {},
   "source": [
    "# 1. Manipulate using a list.\n",
    "\n",
    "i) To add new elements to the end of the list\n",
    "\n",
    "ii) To reverse elements in the list\n",
    "\n",
    "iii) To display the same list of elements multiple times.\n",
    "\n",
    "iv) To concatenate two list\n",
    "\n",
    "v) To sort the elements in the list in ascending order"
   ]
  },
  {
   "cell_type": "code",
   "execution_count": 1,
   "id": "c8c0a81d",
   "metadata": {},
   "outputs": [
    {
     "data": {
      "text/plain": [
       "[33, 89, 26, 44, 'github']"
      ]
     },
     "execution_count": 1,
     "metadata": {},
     "output_type": "execute_result"
    }
   ],
   "source": [
    "lst = [33,89,26,44,'github']\n",
    "lst"
   ]
  },
  {
   "cell_type": "code",
   "execution_count": 2,
   "id": "ee15323e",
   "metadata": {},
   "outputs": [
    {
     "data": {
      "text/plain": [
       "[33, 89, 26, 44, 'github', 82, 11, 'anaconda', 77]"
      ]
     },
     "execution_count": 2,
     "metadata": {},
     "output_type": "execute_result"
    }
   ],
   "source": [
    "#i) To add new elements to the end of the list\n",
    "lst.append(82)  #---append is used to add single element to the list\n",
    "lst.extend([11, 'anaconda',77])  #--extend used to add multiple elements to the list\n",
    "lst"
   ]
  },
  {
   "cell_type": "code",
   "execution_count": 8,
   "id": "d8506ff6",
   "metadata": {},
   "outputs": [
    {
     "data": {
      "text/plain": [
       "[77, 'anaconda', 11, 82, 'github', 44, 26, 89, 33]"
      ]
     },
     "execution_count": 8,
     "metadata": {},
     "output_type": "execute_result"
    }
   ],
   "source": [
    "#ii) To reverse elements in the list\n",
    "lst.reverse()\n",
    "lst\n"
   ]
  },
  {
   "cell_type": "code",
   "execution_count": 11,
   "id": "08d87cf9",
   "metadata": {},
   "outputs": [
    {
     "name": "stdout",
     "output_type": "stream",
     "text": [
      "\n",
      " [77, 'anaconda', 11, 82, 'github', 44, 26, 89, 33, 77, 'anaconda', 11, 82, 'github', 44, 26, 89, 33, 77, 'anaconda', 11, 82, 'github', 44, 26, 89, 33, 77, 'anaconda', 11, 82, 'github', 44, 26, 89, 33]\n"
     ]
    }
   ],
   "source": [
    "#iii)To display the same list of elements multiple times.\n",
    "lst_mul= lst*4\n",
    "print('\\n' ,lst_mul)"
   ]
  },
  {
   "cell_type": "code",
   "execution_count": 12,
   "id": "5e458d28",
   "metadata": {},
   "outputs": [
    {
     "data": {
      "text/plain": [
       "[77, 'anaconda', 11, 82, 'github', 44, 26, 89, 33, 75, 90, 2, 77, 88]"
      ]
     },
     "execution_count": 12,
     "metadata": {},
     "output_type": "execute_result"
    }
   ],
   "source": [
    "#iv) To concatenate two list\n",
    "lst2= [75,90,2,77,88]\n",
    "conc_lst= lst+lst2\n",
    "conc_lst"
   ]
  },
  {
   "cell_type": "code",
   "execution_count": 22,
   "id": "6f8a55ae",
   "metadata": {},
   "outputs": [
    {
     "data": {
      "text/plain": [
       "[2, 75, 77, 88, 90]"
      ]
     },
     "execution_count": 22,
     "metadata": {},
     "output_type": "execute_result"
    }
   ],
   "source": [
    "#v) To sort the elements in the list in ascending order\n",
    "lst2.sort()\n",
    "lst2\n"
   ]
  },
  {
   "cell_type": "markdown",
   "id": "e7f710d9",
   "metadata": {},
   "source": [
    "# 2. Write a Python program to do in the tuples.\n",
    "\n",
    "i) Manipulate using tuples.\n",
    "\n",
    "ii) To add new elements to the end of the tuples\n",
    "\n",
    "iii) To reverse elements in the list\n",
    "\n",
    "iv) To display the elements of the same tuple multiple times.\n",
    "\n",
    "v) To concatenate two tuples\n",
    "\n",
    "vi) To sort the elements in the list in ascending order"
   ]
  },
  {
   "cell_type": "code",
   "execution_count": 32,
   "id": "f3a4b4d4",
   "metadata": {},
   "outputs": [
    {
     "data": {
      "text/plain": [
       "(1, 15, 33, 78, 69)"
      ]
     },
     "execution_count": 32,
     "metadata": {},
     "output_type": "execute_result"
    }
   ],
   "source": [
    "#i) Manipulate using tuples\n",
    "my_tuple = (1, 15, 33, 78, 'hello')\n",
    "temp=list(my_tuple)\n",
    "temp.append(69)\n",
    "temp.pop(-2)\n",
    "my_tuple2= tuple(temp)\n",
    "my_tuple2\n",
    "\n",
    "\n"
   ]
  },
  {
   "cell_type": "code",
   "execution_count": 38,
   "id": "de2fcaeb",
   "metadata": {},
   "outputs": [
    {
     "data": {
      "text/plain": [
       "(1, 15, 33, 78, 69, 99, 88, 66)"
      ]
     },
     "execution_count": 38,
     "metadata": {},
     "output_type": "execute_result"
    }
   ],
   "source": [
    "#ii) To add new elements to the end of the tuples\n",
    "add_to_my_tuple = my_tuple2 + (99,88,66)\n",
    "add_to_my_tuple"
   ]
  },
  {
   "cell_type": "code",
   "execution_count": 42,
   "id": "be02dfa5",
   "metadata": {},
   "outputs": [
    {
     "data": {
      "text/plain": [
       "(69, 78, 33, 15, 1)"
      ]
     },
     "execution_count": 42,
     "metadata": {},
     "output_type": "execute_result"
    }
   ],
   "source": [
    "#iii) To reverse elements in the list\n",
    "temp=list(my_tuple2)\n",
    "temp.reverse()\n",
    "rev_tuple=tuple(temp)\n",
    "rev_tuple"
   ]
  },
  {
   "cell_type": "code",
   "execution_count": 44,
   "id": "d5a08fe6",
   "metadata": {},
   "outputs": [
    {
     "name": "stdout",
     "output_type": "stream",
     "text": [
      "(1, 15, 33, 78, 69, 1, 15, 33, 78, 69, 1, 15, 33, 78, 69, 1, 15, 33, 78, 69, 1, 15, 33, 78, 69) \n",
      "\n"
     ]
    }
   ],
   "source": [
    "#iv) To display the elements of the same tuple multiple times.\n",
    "Mul_tuple = my_tuple2 *5\n",
    "print(Mul_tuple, '\\n')"
   ]
  },
  {
   "cell_type": "code",
   "execution_count": 46,
   "id": "e16055b5",
   "metadata": {},
   "outputs": [
    {
     "data": {
      "text/plain": [
       "(1, 15, 33, 78, 69, 1, 15, 33, 78, 'hello')"
      ]
     },
     "execution_count": 46,
     "metadata": {},
     "output_type": "execute_result"
    }
   ],
   "source": [
    "#v) To concatenate two tuples\n",
    "conc_tuple =my_tuple2+my_tuple\n",
    "conc_tuple"
   ]
  },
  {
   "cell_type": "code",
   "execution_count": 57,
   "id": "bb7385fb",
   "metadata": {},
   "outputs": [
    {
     "data": {
      "text/plain": [
       "(1, 15, 33, 66, 69, 78, 88, 99)"
      ]
     },
     "execution_count": 57,
     "metadata": {},
     "output_type": "execute_result"
    }
   ],
   "source": [
    "#vi) To sort the elements in the list in ascending order\n",
    "Asc_tuple=sorted(add_to_my_tuple)\n",
    "Asc_tuple.sort()\n",
    "sorted_tuple=tuple(Asc_tuple)\n",
    "sorted_tuple\n"
   ]
  },
  {
   "cell_type": "markdown",
   "id": "44e8ceab",
   "metadata": {},
   "source": [
    "# 3. Write a python program to implement the following using list.\n",
    "\n",
    "i) Create a list with integers (minimum 10 numbers)\n",
    "\n",
    "ii) How to display the last number in the list\n",
    "\n",
    "iii) Command for displaying the values from the list [0:4]\n",
    "\n",
    "iv) Command for displaying the values from the list [2:]\n",
    "\n",
    "v) Command for displaying the values from the list[:6]"
   ]
  },
  {
   "cell_type": "code",
   "execution_count": 52,
   "id": "27ee0ed7",
   "metadata": {},
   "outputs": [
    {
     "data": {
      "text/plain": [
       "[11, 22, 45, 69, 66, 13, 35, 16, 12, 19, 9]"
      ]
     },
     "execution_count": 52,
     "metadata": {},
     "output_type": "execute_result"
    }
   ],
   "source": [
    "#i) Create a list with integers (minimum 10 numbers)\n",
    "my_lst=[11,22,45,69,66,13,35,16,12,19,9]\n",
    "my_lst"
   ]
  },
  {
   "cell_type": "code",
   "execution_count": 54,
   "id": "90a8d7c8",
   "metadata": {},
   "outputs": [
    {
     "data": {
      "text/plain": [
       "9"
      ]
     },
     "execution_count": 54,
     "metadata": {},
     "output_type": "execute_result"
    }
   ],
   "source": [
    "#ii) How to display the last number in the list\n",
    "my_lst[-1]"
   ]
  },
  {
   "cell_type": "code",
   "execution_count": 58,
   "id": "2ee3b055",
   "metadata": {},
   "outputs": [
    {
     "data": {
      "text/plain": [
       "[11, 22, 45, 69]"
      ]
     },
     "execution_count": 58,
     "metadata": {},
     "output_type": "execute_result"
    }
   ],
   "source": [
    "#iii) Command for displaying the values from the list [0:4]\n",
    "my_lst[0:4]"
   ]
  },
  {
   "cell_type": "code",
   "execution_count": 59,
   "id": "db8104a5",
   "metadata": {},
   "outputs": [
    {
     "data": {
      "text/plain": [
       "[45, 69, 66, 13, 35, 16, 12, 19, 9]"
      ]
     },
     "execution_count": 59,
     "metadata": {},
     "output_type": "execute_result"
    }
   ],
   "source": [
    "#iv) Command for displaying the values from the list [2:]\n",
    "my_lst[2:]"
   ]
  },
  {
   "cell_type": "code",
   "execution_count": 60,
   "id": "0b3aa034",
   "metadata": {},
   "outputs": [
    {
     "data": {
      "text/plain": [
       "[11, 22, 45, 69, 66, 13]"
      ]
     },
     "execution_count": 60,
     "metadata": {},
     "output_type": "execute_result"
    }
   ],
   "source": [
    "#v) Command for displaying the values from the list[:6]\n",
    "my_lst[:6]"
   ]
  },
  {
   "cell_type": "markdown",
   "id": "c1ca49d6",
   "metadata": {},
   "source": [
    "# 4. Write a Python program: tuple1 = (10,50,20,40,30)\n",
    "\n",
    "i. To display the elements 10 and 50 from tuple1\n",
    "\n",
    "ii. To display the length of a tuple1.\n",
    "\n",
    "iii. To find the minimum element from tuple1.\n",
    "\n",
    "iv. To add all elements in the tuple1.\n",
    "\n",
    "v. To display the same tuple1 multiple tim"
   ]
  },
  {
   "cell_type": "code",
   "execution_count": 61,
   "id": "7372ee47",
   "metadata": {},
   "outputs": [
    {
     "data": {
      "text/plain": [
       "(10, 50, 20, 40, 30)"
      ]
     },
     "execution_count": 61,
     "metadata": {},
     "output_type": "execute_result"
    }
   ],
   "source": [
    " tuple1 = (10,50,20,40,30)\n",
    " tuple1   \n",
    "    "
   ]
  },
  {
   "cell_type": "code",
   "execution_count": 65,
   "id": "6b198826",
   "metadata": {},
   "outputs": [
    {
     "data": {
      "text/plain": [
       "(10, 50)"
      ]
     },
     "execution_count": 65,
     "metadata": {},
     "output_type": "execute_result"
    }
   ],
   "source": [
    "#i. To display the elements 10 and 50 from tuple1\n",
    "tuple1[:2]"
   ]
  },
  {
   "cell_type": "code",
   "execution_count": 66,
   "id": "5c53a9c2",
   "metadata": {},
   "outputs": [
    {
     "data": {
      "text/plain": [
       "5"
      ]
     },
     "execution_count": 66,
     "metadata": {},
     "output_type": "execute_result"
    }
   ],
   "source": [
    "#ii. To display the length of a tuple1.\n",
    "len(tuple1)\n"
   ]
  },
  {
   "cell_type": "code",
   "execution_count": 67,
   "id": "3d134e20",
   "metadata": {},
   "outputs": [
    {
     "data": {
      "text/plain": [
       "10"
      ]
     },
     "execution_count": 67,
     "metadata": {},
     "output_type": "execute_result"
    }
   ],
   "source": [
    "#iii. To find the minimum element from tuple1.\n",
    "min(tuple1)"
   ]
  },
  {
   "cell_type": "code",
   "execution_count": 70,
   "id": "d40a7ecb",
   "metadata": {},
   "outputs": [
    {
     "data": {
      "text/plain": [
       "150"
      ]
     },
     "execution_count": 70,
     "metadata": {},
     "output_type": "execute_result"
    }
   ],
   "source": [
    "temp=list(tuple1)\n",
    "total=sum(temp)\n",
    "total"
   ]
  },
  {
   "cell_type": "code",
   "execution_count": 72,
   "id": "67842800",
   "metadata": {},
   "outputs": [
    {
     "data": {
      "text/plain": [
       "(10, 50, 20, 40, 30, 10, 50, 20, 40, 30, 10, 50, 20, 40, 30)"
      ]
     },
     "execution_count": 72,
     "metadata": {},
     "output_type": "execute_result"
    }
   ],
   "source": [
    "#v. To display the same tuple1 multiple tim\n",
    "tuple1*3"
   ]
  },
  {
   "cell_type": "markdown",
   "id": "7c97c570",
   "metadata": {},
   "source": [
    "# 5. Write a Python program:\n",
    "\n",
    "i. To calculate the length of a string\n",
    "\n",
    "ii. To reverse words in a string\n",
    "\n",
    "iii. To display the same string multiple times\n",
    "\n",
    "iv. To concatenate two strings\n",
    "\n",
    "v. Str1=” South India”, using string slicing to display “India"
   ]
  },
  {
   "cell_type": "code",
   "execution_count": 73,
   "id": "0e2fad35",
   "metadata": {},
   "outputs": [
    {
     "data": {
      "text/plain": [
       "'Banglore'"
      ]
     },
     "execution_count": 73,
     "metadata": {},
     "output_type": "execute_result"
    }
   ],
   "source": [
    "s='Banglore'\n",
    "s\n"
   ]
  },
  {
   "cell_type": "code",
   "execution_count": 74,
   "id": "9354aee1",
   "metadata": {},
   "outputs": [
    {
     "data": {
      "text/plain": [
       "8"
      ]
     },
     "execution_count": 74,
     "metadata": {},
     "output_type": "execute_result"
    }
   ],
   "source": [
    "#i. To calculate the length of a string\n",
    "len(s)"
   ]
  },
  {
   "cell_type": "code",
   "execution_count": 75,
   "id": "38396e7a",
   "metadata": {},
   "outputs": [
    {
     "data": {
      "text/plain": [
       "'erolgnaB'"
      ]
     },
     "execution_count": 75,
     "metadata": {},
     "output_type": "execute_result"
    }
   ],
   "source": [
    "#ii. To reverse words in a string\n",
    "s[::-1]"
   ]
  },
  {
   "cell_type": "code",
   "execution_count": 76,
   "id": "5718b6ce",
   "metadata": {},
   "outputs": [
    {
     "data": {
      "text/plain": [
       "'BangloreBangloreBangloreBanglore'"
      ]
     },
     "execution_count": 76,
     "metadata": {},
     "output_type": "execute_result"
    }
   ],
   "source": [
    "#iii. To display the same string multiple times\n",
    "s*4"
   ]
  },
  {
   "cell_type": "code",
   "execution_count": 80,
   "id": "3962b06f",
   "metadata": {},
   "outputs": [
    {
     "data": {
      "text/plain": [
       "'BangloreSouth India'"
      ]
     },
     "execution_count": 80,
     "metadata": {},
     "output_type": "execute_result"
    }
   ],
   "source": [
    "#iv. To concatenate two strings\n",
    "str1='South India'\n",
    "conc_str= s + str1\n",
    "conc_str"
   ]
  },
  {
   "cell_type": "code",
   "execution_count": 81,
   "id": "f39f9bf8",
   "metadata": {},
   "outputs": [
    {
     "data": {
      "text/plain": [
       "'India'"
      ]
     },
     "execution_count": 81,
     "metadata": {},
     "output_type": "execute_result"
    }
   ],
   "source": [
    "#v. Str1=” South India”, using string slicing to display “India\n",
    "str1[6:]"
   ]
  },
  {
   "cell_type": "markdown",
   "id": "f63ed8ef",
   "metadata": {},
   "source": [
    "# 6. Perform the following:\n",
    "\n",
    "i) Creating the Dictionary.\n",
    "\n",
    "ii) Accessing values and keys in the Dictionary.\n",
    "\n",
    "iii) Updating the dictionary using a function.\n",
    "\n",
    "iv) Clear and delete the dictionary values"
   ]
  },
  {
   "cell_type": "code",
   "execution_count": 1,
   "id": "b5ba5155",
   "metadata": {},
   "outputs": [
    {
     "data": {
      "text/plain": [
       "{'f_name': 'carter', 'l_name': 'john', 'age': 33, 'country': 'USA'}"
      ]
     },
     "execution_count": 1,
     "metadata": {},
     "output_type": "execute_result"
    }
   ],
   "source": [
    "#i) Creating the Dictionary.\n",
    "person={'f_name':'carter', 'l_name':'john', 'age':33, 'country':'USA'}\n",
    "person\n"
   ]
  },
  {
   "cell_type": "code",
   "execution_count": 8,
   "id": "796e87ea",
   "metadata": {},
   "outputs": [
    {
     "data": {
      "text/plain": [
       "dict_keys(['f_name', 'l_name', 'age', 'country'])"
      ]
     },
     "execution_count": 8,
     "metadata": {},
     "output_type": "execute_result"
    }
   ],
   "source": [
    "#ii) Accessing values and keys in the Dictionary.\n",
    "person['f_name']\n",
    "person.get('age')\n",
    "person.values()\n",
    "person.keys()"
   ]
  },
  {
   "cell_type": "code",
   "execution_count": 16,
   "id": "6ca619a0",
   "metadata": {},
   "outputs": [
    {
     "data": {
      "text/plain": [
       "{'f_name': 'carter', 'l_name': 'john', 'age': 33, 'country': 'Europe'}"
      ]
     },
     "execution_count": 16,
     "metadata": {},
     "output_type": "execute_result"
    }
   ],
   "source": [
    "#iii) Updating the dictionary using a function.\n",
    "person.update({'country':'Europe'})\n",
    "\n",
    "person\n"
   ]
  },
  {
   "cell_type": "code",
   "execution_count": 20,
   "id": "e2d049cf",
   "metadata": {},
   "outputs": [
    {
     "data": {
      "text/plain": [
       "{}"
      ]
     },
     "execution_count": 20,
     "metadata": {},
     "output_type": "execute_result"
    }
   ],
   "source": [
    "#iv) Clear and delete the dictionary values\n",
    "del person['age']\n",
    "person.clear()\n",
    "person"
   ]
  },
  {
   "cell_type": "markdown",
   "id": "1b9de9ae",
   "metadata": {},
   "source": [
    "# 7. Python program to insert a number to any position in a list."
   ]
  },
  {
   "cell_type": "code",
   "execution_count": 22,
   "id": "29f86313",
   "metadata": {},
   "outputs": [
    {
     "data": {
      "text/plain": [
       "[2, 3, 10, 8, 9, 'hunt', 77, 88]"
      ]
     },
     "execution_count": 22,
     "metadata": {},
     "output_type": "execute_result"
    }
   ],
   "source": [
    "lst=[2,3,8,9,'hunt', 77, 88]\n",
    "lst.insert(2,10)\n",
    "lst"
   ]
  },
  {
   "cell_type": "markdown",
   "id": "3d056cc9",
   "metadata": {},
   "source": [
    "# 8. Python program to delete an element from a list by index."
   ]
  },
  {
   "cell_type": "code",
   "execution_count": 1,
   "id": "c688b6f7",
   "metadata": {},
   "outputs": [
    {
     "data": {
      "text/plain": [
       "[2, 3, 8, 9, 'hunt', 77, 88]"
      ]
     },
     "execution_count": 1,
     "metadata": {},
     "output_type": "execute_result"
    }
   ],
   "source": [
    "lst=[2, 3, 10, 8, 9, 'hunt', 77, 88]\n",
    "del lst[2]\n",
    "lst"
   ]
  },
  {
   "cell_type": "markdown",
   "id": "92461241",
   "metadata": {},
   "source": [
    "# 9. Write a program to display a number from 1 to 100."
   ]
  },
  {
   "cell_type": "code",
   "execution_count": 7,
   "id": "d50e007f",
   "metadata": {},
   "outputs": [
    {
     "name": "stdout",
     "output_type": "stream",
     "text": [
      "1 2 3 4 5 6 7 8 9 10 11 12 13 14 15 16 17 18 19 20 21 22 23 24 25 26 27 28 29 30 31 32 33 34 35 36 37 38 39 40 41 42 43 44 45 46 47 48 49 50 51 52 53 54 55 56 57 58 59 60 61 62 63 64 65 66 67 68 69 70 71 72 73 74 75 76 77 78 79 80 81 82 83 84 85 86 87 88 89 90 91 92 93 94 95 96 97 98 99 100 "
     ]
    }
   ],
   "source": [
    "i=1\n",
    "while i<=100:\n",
    "    print(i, end=\" \")\n",
    "    i+=1\n"
   ]
  },
  {
   "cell_type": "markdown",
   "id": "2266f252",
   "metadata": {},
   "source": [
    "# 10. Write a Python program to find the sum of all items in a tuple."
   ]
  },
  {
   "cell_type": "code",
   "execution_count": 9,
   "id": "9dd72185",
   "metadata": {},
   "outputs": [
    {
     "data": {
      "text/plain": [
       "295"
      ]
     },
     "execution_count": 9,
     "metadata": {},
     "output_type": "execute_result"
    }
   ],
   "source": [
    "mytuple=(23,47,88,36,48,32,21)\n",
    "sum(mytuple)"
   ]
  },
  {
   "cell_type": "markdown",
   "id": "ad74bb12",
   "metadata": {},
   "source": [
    "# 11. Create a dictionary containing three lambda functions square, cube and square root.\n",
    "\n",
    "i) E.g. dict = {'Square': function for squaring, 'Cube': function for cube, 'Squareroot':\n",
    "\n",
    "function for square root}\n",
    "\n",
    "ii) Pass the values (input from the user) to the functions in the dictionary respectively.\n",
    "\n",
    "iii) Then add the outputs of each function and print it."
   ]
  },
  {
   "cell_type": "code",
   "execution_count": null,
   "id": "406e8226",
   "metadata": {},
   "outputs": [],
   "source": []
  },
  {
   "cell_type": "code",
   "execution_count": null,
   "id": "09764a6d",
   "metadata": {},
   "outputs": [],
   "source": [
    "my_dict={}"
   ]
  },
  {
   "cell_type": "code",
   "execution_count": null,
   "id": "210d3ad3",
   "metadata": {},
   "outputs": [],
   "source": []
  },
  {
   "cell_type": "markdown",
   "id": "c3e1f976",
   "metadata": {},
   "source": [
    "# 12. A list of words is given. Find the words from the list that have their second character in uppercase.\n",
    "\n",
    "ls = ['hello', 'Dear', 'hOw', 'ARe', 'You']"
   ]
  },
  {
   "cell_type": "code",
   "execution_count": 11,
   "id": "d3781ce3",
   "metadata": {},
   "outputs": [
    {
     "name": "stdout",
     "output_type": "stream",
     "text": [
      "Words with the second character in uppercase: ['hOw', 'ARe']\n"
     ]
    }
   ],
   "source": [
    "ls = ['hello', 'Dear', 'hOw', 'ARe', 'You']\n",
    "second_upper = []\n",
    "for word in ls:\n",
    "    if word[1].isupper():\n",
    "        second_upper.append(word)\n",
    "print(\"Words with the second character in uppercase:\", second_upper)\n"
   ]
  },
  {
   "cell_type": "code",
   "execution_count": null,
   "id": "c0883817",
   "metadata": {},
   "outputs": [],
   "source": [
    "\n"
   ]
  },
  {
   "cell_type": "code",
   "execution_count": null,
   "id": "00216431",
   "metadata": {},
   "outputs": [],
   "source": []
  },
  {
   "cell_type": "markdown",
   "id": "6147388f",
   "metadata": {},
   "source": [
    "# Control Structures:\n",
    "\n",
    "1. Write a python program to find the first N Prime numbers."
   ]
  },
  {
   "cell_type": "code",
   "execution_count": 20,
   "id": "d7654aa4",
   "metadata": {},
   "outputs": [
    {
     "name": "stdout",
     "output_type": "stream",
     "text": [
      "enter a number:100\n",
      "3 5 7 9 11 13 15 17 19 21 23 25 27 29 31 33 35 37 39 41 43 45 47 49 51 53 55 57 59 61 63 65 67 69 71 73 75 77 79 81 83 85 87 89 91 93 95 97 99 "
     ]
    }
   ],
   "source": [
    "def prime(n):\n",
    "    if n<=1:\n",
    "        return False\n",
    "    for i in range(2,n):\n",
    "        if(n%i==0):\n",
    "            return False\n",
    "        else:\n",
    "            return True\n",
    "        \n",
    "N=int(input(\"enter a number:\"))\n",
    "for i in range(N+1):\n",
    "    if prime(i):\n",
    "        print(i, end=\" \")"
   ]
  },
  {
   "cell_type": "markdown",
   "id": "57831949",
   "metadata": {},
   "source": [
    "# 2.Write the python code that calculates the salary of an employee. Prompt the user to enter the Basic Salary, HRA, TA, and DA. Add these components to calculate the Gross Salary. Also, deduct\n",
    "\n",
    "10% of salary from the Gross Salary to be paid as tax and display gross minus tax as net salary."
   ]
  },
  {
   "cell_type": "code",
   "execution_count": 21,
   "id": "9fa62fa8",
   "metadata": {},
   "outputs": [
    {
     "name": "stdout",
     "output_type": "stream",
     "text": [
      "enter the basic salary: 33000\n",
      "enter the HRA: 2000\n",
      "enter the TA: 4000\n",
      "enter the DA: 500\n",
      "35550.0\n"
     ]
    }
   ],
   "source": [
    "Basic_salary=float(input('enter the basic salary: ' ))\n",
    "hra=float(input('enter the HRA: '))\n",
    "ta=float(input('enter the TA: '))\n",
    "da=float(input('enter the DA: '))\n",
    "Gross_salary=Basic_salary+hra+ta+da\n",
    "tax=0.10*Gross_salary\n",
    "net_salary=Gross_salary-tax\n",
    "print(net_salary)"
   ]
  },
  {
   "cell_type": "markdown",
   "id": "e2e5ed52",
   "metadata": {},
   "source": [
    "# 3. Write a python program to search for a string in the given list."
   ]
  },
  {
   "cell_type": "code",
   "execution_count": 23,
   "id": "856a9e76",
   "metadata": {},
   "outputs": [
    {
     "name": "stdout",
     "output_type": "stream",
     "text": [
      "the string is present in lst\n"
     ]
    }
   ],
   "source": [
    "lst=['apple','orange','papaya','guava','jackfruit','mango']\n",
    "s='mango'\n",
    "if s in lst:\n",
    "    print('the string is present in lst')\n",
    "else:\n",
    "    print('string is not present in lst')"
   ]
  },
  {
   "cell_type": "markdown",
   "id": "cc02212a",
   "metadata": {},
   "source": [
    "# 4. Write a Python function that accepts a string and calculates the number of upper-case letters and lower-case letters."
   ]
  },
  {
   "cell_type": "code",
   "execution_count": 29,
   "id": "bd294673",
   "metadata": {},
   "outputs": [
    {
     "name": "stdout",
     "output_type": "stream",
     "text": [
      "No.of upper case letters:  4\n",
      "No. of lower case letters:  6\n"
     ]
    }
   ],
   "source": [
    "def count(strng):\n",
    "    upper_count=0\n",
    "    lower_count=0\n",
    "    for char in strng:\n",
    "        if char.isupper():\n",
    "            upper_count+=1\n",
    "        else:\n",
    "            lower_count+=1\n",
    "    return upper_count, lower_count\n",
    "strng=\"HelloWorLD\"\n",
    "upper,lower=count(strng)\n",
    "print(\"No.of upper case letters: \", upper)\n",
    "print(\"No. of lower case letters: \", lower)"
   ]
  },
  {
   "cell_type": "markdown",
   "id": "045af6c1",
   "metadata": {},
   "source": [
    "# 5. Write a program to display the sum of odd numbers and even numbers that fall between 12 and 37"
   ]
  },
  {
   "cell_type": "code",
   "execution_count": 33,
   "id": "634d08cd",
   "metadata": {},
   "outputs": [
    {
     "name": "stdout",
     "output_type": "stream",
     "text": [
      "sum of even numbers:  312\n",
      "sum of odd numbers:  325\n"
     ]
    }
   ],
   "source": [
    "s_odd=0\n",
    "s_even=0\n",
    "for i in range(12,38):\n",
    "    if i%2==0:\n",
    "        s_even+=i\n",
    "    else:\n",
    "        s_odd+=i\n",
    "print('sum of even numbers: ', s_even) \n",
    "print('sum of odd numbers: ', s_odd)\n",
    "        "
   ]
  },
  {
   "cell_type": "markdown",
   "id": "a12f7174",
   "metadata": {},
   "source": [
    "# 6. Write a python Program to print the table of any number."
   ]
  },
  {
   "cell_type": "code",
   "execution_count": 35,
   "id": "5eba18b0",
   "metadata": {},
   "outputs": [
    {
     "name": "stdout",
     "output_type": "stream",
     "text": [
      "12\n",
      "12 X 1 = 12\n",
      "12 X 2 = 24\n",
      "12 X 3 = 36\n",
      "12 X 4 = 48\n",
      "12 X 5 = 60\n",
      "12 X 6 = 72\n",
      "12 X 7 = 84\n",
      "12 X 8 = 96\n",
      "12 X 9 = 108\n",
      "12 X 10 = 120\n"
     ]
    }
   ],
   "source": [
    "n=int(input())\n",
    "for i in range(1,11):\n",
    "    print(n, 'X', i, \"=\", n*i)"
   ]
  },
  {
   "cell_type": "markdown",
   "id": "0fa35e1a",
   "metadata": {},
   "source": [
    "# 7. Write a Python program to sum the first 10 prime numbers."
   ]
  },
  {
   "cell_type": "code",
   "execution_count": 54,
   "id": "4436f330",
   "metadata": {},
   "outputs": [
    {
     "name": "stdout",
     "output_type": "stream",
     "text": [
      "129\n"
     ]
    }
   ],
   "source": [
    "def prime(n):\n",
    "    if n <= 1:\n",
    "        return False\n",
    "    for i in range(2, n):\n",
    "        if n % i == 0:\n",
    "            return False\n",
    "    return True  \n",
    "\n",
    "prime_count = 0\n",
    "total_sum = 0\n",
    "num = 1\n",
    "\n",
    "while prime_count < 10:  \n",
    "    \n",
    "    if prime(num):\n",
    "        total_sum += num\n",
    "        prime_count += 1\n",
    "    num += 1\n",
    "    \n",
    "print(total_sum)\n"
   ]
  },
  {
   "cell_type": "code",
   "execution_count": null,
   "id": "c6ec8b9c",
   "metadata": {},
   "outputs": [],
   "source": []
  },
  {
   "cell_type": "code",
   "execution_count": null,
   "id": "dbfea050",
   "metadata": {},
   "outputs": [],
   "source": []
  },
  {
   "cell_type": "code",
   "execution_count": null,
   "id": "981c526b",
   "metadata": {},
   "outputs": [],
   "source": []
  }
 ],
 "metadata": {
  "kernelspec": {
   "display_name": "Python 3 (ipykernel)",
   "language": "python",
   "name": "python3"
  },
  "language_info": {
   "codemirror_mode": {
    "name": "ipython",
    "version": 3
   },
   "file_extension": ".py",
   "mimetype": "text/x-python",
   "name": "python",
   "nbconvert_exporter": "python",
   "pygments_lexer": "ipython3",
   "version": "3.11.4"
  }
 },
 "nbformat": 4,
 "nbformat_minor": 5
}
