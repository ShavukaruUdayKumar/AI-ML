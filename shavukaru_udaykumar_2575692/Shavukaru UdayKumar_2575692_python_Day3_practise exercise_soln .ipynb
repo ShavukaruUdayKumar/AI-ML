{
 "cells": [
  {
   "cell_type": "markdown",
   "id": "de54fc6f",
   "metadata": {},
   "source": [
    "# File Handling\n"
   ]
  },
  {
   "cell_type": "code",
   "execution_count": 56,
   "id": "4bef72de",
   "metadata": {},
   "outputs": [
    {
     "name": "stdout",
     "output_type": "stream",
     "text": [
      "1.Python programming language is one of dynamic and object-oriented programming languages used for the development of diverse kinds of software developed by the Python Software foundation. \n",
      "2.Its significant advantage is that facilitates integration with other programing languages and software development tools. \n",
      "3.In addition, it has in-built standard libraries that are extensive. This means that it facilitates the development of a better source code. \n",
      "4.The programming paradigm of Python language embarks on the readability of the source code enhanced through clear syntax. Apart from object-oriented programming paradigm, Python can implement other programming methodologies such as functional programing and imperative programming. \n",
      "5.Another important feature of Python language that makes it suitable as a software development tool is that it has a dynamic type system and its memory management strategy is automatic.\n",
      "6.In addition, it can support the implementation of scripting applications. It is important to note that the development model of Python language is community based, implying that its reference implementation is free and bases on the open source platform. \n",
      "7.There are various interpreters for the language for various systems software, although programs developed by Python are executable in any environment irrespective of operating system environment.\n"
     ]
    }
   ],
   "source": [
    "#sample text\n",
    "file=open('sample.txt', 'r')\n",
    "print(file.read())"
   ]
  },
  {
   "cell_type": "markdown",
   "id": "75548224",
   "metadata": {},
   "source": [
    "# 1. Write a python function that copies a file reading and writing up to 50 characters at a time."
   ]
  },
  {
   "cell_type": "code",
   "execution_count": 10,
   "id": "5741e2d8",
   "metadata": {},
   "outputs": [
    {
     "name": "stdout",
     "output_type": "stream",
     "text": [
      "1.Python programming language is one of dynamic an\n"
     ]
    }
   ],
   "source": [
    "with open('sample.txt', 'r') as f:\n",
    "    f.readable()\n",
    "    content =f.read(50)\n",
    "    \n",
    "print(content)    \n",
    "\n",
    "f.close()\n",
    "    "
   ]
  },
  {
   "cell_type": "markdown",
   "id": "8388cb10",
   "metadata": {},
   "source": [
    "# 2. Print all numbers present in the text file and print the number of blank spaces in that file."
   ]
  },
  {
   "cell_type": "code",
   "execution_count": 51,
   "id": "8464a989",
   "metadata": {},
   "outputs": [
    {
     "name": "stdout",
     "output_type": "stream",
     "text": [
      "['1', '2', '3', '4', '5', '6', '7']\n",
      "192\n"
     ]
    }
   ],
   "source": [
    "\n",
    "with open('sample.txt', 'r') as file:\n",
    "    content = file.read()\n",
    "    nums = []\n",
    "    spaces_count = 0\n",
    "    for i in content:\n",
    "        if i.isdigit():  \n",
    "            nums.append(i)\n",
    "        elif i == \" \":\n",
    "            spaces_count += 1\n",
    "print(nums)\n",
    "print(spaces_count)   \n",
    "    "
   ]
  },
  {
   "cell_type": "markdown",
   "id": "12adb1c2",
   "metadata": {},
   "source": [
    "# 3. Write a function called sed that takes as arguments a pattern string, a replacement string, and two filenames; it should read the first file and write the contents into the second file(creating it if necessary). If the pattern string appears anywhere in the file, it should bereplaced with the replacement string. If an error occurs while opening, reading, writing,or closing files, your program should catch the exception, print an error message, and exit."
   ]
  },
  {
   "cell_type": "code",
   "execution_count": 26,
   "id": "9eaf9038",
   "metadata": {},
   "outputs": [
    {
     "name": "stdout",
     "output_type": "stream",
     "text": [
      "1.Java programming language is one of dynamic and object-oriented programming languages used for the development of diverse kinds of software developed by the Java Software foundation. \n",
      "2.Its significant advantage is that facilitates integration with other programing languages and software development tools. \n",
      "3.In addition, it has in-built standard libraries that are extensive. This means that it facilitates the development of a better source code. \n",
      "4.The programming paradigm of Java language embarks on the readability of the source code enhanced through clear syntax. Apart from object-oriented programming paradigm, Java can implement other programming methodologies such as functional programing and imperative programming. \n",
      "5.Another important feature of Java language that makes it suitable as a software development tool is that it has a dynamic type system and its memory management strategy is automatic.\n",
      "6.In addition, it can support the implementation of scripting applications. It is important to note that the development model of Java language is community based, implying that its reference implementation is free and bases on the open source platform. \n",
      "7.There are various interpreters for the language for various systems software, although programs developed by Java are executable in any environment irrespective of operating system environment.\n"
     ]
    }
   ],
   "source": [
    "import sys\n",
    "\n",
    "def sed(pattern, replacement, sample, sample2):\n",
    "    try:\n",
    "        with open(sample, 'r') as file1:\n",
    "            content = file1.read()\n",
    "            content = content.replace(pattern, replacement)\n",
    "\n",
    "        with open(sample2, 'w') as file2:\n",
    "            file2.write(content)\n",
    "    \n",
    "    except FileNotFoundError as e:\n",
    "        print(f\"Error: {e}\")\n",
    "        print(sys.exc_info()[0])\n",
    "        print(sys.exc_info()[1])\n",
    "    \n",
    "    \n",
    "\n",
    "    else:\n",
    "        with open(sample2, 'r') as file2:\n",
    "            print(file2.read())\n",
    "\n",
    "\n",
    "sed(\"Python\", \"Java\", 'sample.txt', 'sample2.txt')     \n",
    "        \n",
    "        "
   ]
  },
  {
   "cell_type": "markdown",
   "id": "267681bd",
   "metadata": {},
   "source": [
    "# 4. Log File Analysis: You have a log file containing records of user activities on a website. Each line in the file represents a log entry with details like timestamp, user ID, and action performed. Your task is to analyze this log file.\n",
    "a. Write Python code to read the log file and extract specific information, such as the number of unique users or the most common action.\n",
    "\n",
    "b. How would you handle large log files efficiently without loading the entire file into memory?"
   ]
  },
  {
   "cell_type": "code",
   "execution_count": 21,
   "id": "07f6b41b",
   "metadata": {},
   "outputs": [
    {
     "name": "stdout",
     "output_type": "stream",
     "text": [
      "[2023-09-09 21:51:29] Requirement org.eclipse.equinox.p2.iu:org.eclipse.mylyn.github.feature.feature.group\n",
      "[2023-09-09 21:51:45] Downloading org.eclipse.mylyn.github.feature\n",
      "[2023-09-09 21:51:45] Fetching org.eclipse.mylyn.github.feature_6.2.1.v20230531-0547.jar from https://mirror.dogado.de/eclipse/releases/2023-06/202306141000/features/ (20.78kB)\n",
      "[2023-09-09 21:52:01] Downloading org.eclipse.mylyn.github.core\n",
      "[2023-09-09 21:52:02] Fetching org.eclipse.mylyn.github.core_6.2.1.v20230531-0547.jar from https://download.eclipse.org/releases/2023-06/202306141000/plugins/ (76.45kB)\n",
      "[2023-09-09 21:52:50] Downloading org.eclipse.mylyn.github.ui\n",
      "[2023-09-09 21:52:51] Fetching org.eclipse.mylyn.github.ui_6.2.1.v20230531-0547.jar from https://mirror.dogado.de/eclipse/releases/2023-06/202306141000/plugins/ (256.06kB)\n",
      "[2023-09-09 21:52:51] Downloading org.eclipse.egit.github.core\n",
      "[2023-09-09 21:52:52] Downloading org.eclipse.mylyn.github.doc\n",
      "[2023-09-09 21:52:52] Fetching org.eclipse.egit.github.core_6.1.0.202203080745-r.jar from https://mirror.dogado.de/eclipse/releases/2023-06/202306141000/plugins/ (248.87kB)\n",
      "[2023-09-09 21:52:53] Fetching org.eclipse.mylyn.github.doc_6.2.1.v20230523-1926.jar from https://download.eclipse.org/releases/2023-06/202306141000/plugins/ (235.21kB)\n",
      "[2023-09-09 21:53:41] Installing org.eclipse.egit.github.core [6.1.0.202203080745-r]\n",
      "[2023-09-09 21:53:41] Installing org.eclipse.mylyn.github.core [6.2.1.v20230531-0547]\n",
      "[2023-09-09 21:53:41] Installing org.eclipse.mylyn.github.doc [6.2.1.v20230523-1926]\n",
      "[2023-09-09 21:53:41] Installing org.eclipse.mylyn.github.feature.feature.group [6.2.1.v20230531-0547]\n",
      "[2023-09-09 21:53:41] Installing org.eclipse.mylyn.github.feature.feature.jar [6.2.1.v20230531-0547]\n",
      "[2023-09-09 21:53:41] Installing org.eclipse.mylyn.github.ui [6.2.1.v20230531-0547]\n"
     ]
    }
   ],
   "source": [
    "def filter_log_file(log_file, filter_keyword):\n",
    "    try:\n",
    "        with open(log_file, 'r') as log_file:\n",
    "            for line in log_file:\n",
    "                if filter_keyword.lower() in line.lower():\n",
    "                    print(line.strip()) \n",
    "                    \n",
    "    except FileNotFoundError:\n",
    "        print(f\"Error: Input file '{log_file_path}' not found.\")\n",
    "    except PermissionError:\n",
    "        print(f\"Error: Permission denied when reading '{log_file_path}'.\")\n",
    "    except Exception as e:\n",
    "        print(f\"An error occurred: {str(e)}\")\n",
    "\n",
    "if __name__ == \"__main__\":\n",
    "    log_file = 'logfile.txt'  \n",
    "    filter_keyword = 'github'  \n",
    "    filter_log_file(log_file, filter_keyword)"
   ]
  },
  {
   "cell_type": "code",
   "execution_count": 27,
   "id": "0d60ba86",
   "metadata": {},
   "outputs": [
    {
     "name": "stdout",
     "output_type": "stream",
     "text": [
      "Date: [2023-09-0\n",
      "Total Entries: 1613\n",
      "Sample Entries:\n",
      "1. 21:51:29] Executing bootstrap tasks\n",
      "2. 21:51:29] OpenJDK Runtime Environment 17.0.7+7\n",
      "3. 21:51:29] Product org.eclipse.products.epp.package.java.2023-06\n",
      "4. 21:51:29] Bundle org.eclipse.oomph.setup 1.26.0.v20230416-0656, build=5945, branch=c5558820f367665758d4d719b7553a02ff4954e0\n",
      "5. 21:51:29] Bundle org.eclipse.oomph.setup.core 1.27.0.v20230402-0730, build=5945, branch=c5558820f367665758d4d719b7553a02ff4954e0\n",
      "6. 21:51:29] Bundle org.eclipse.oomph.setup.p2 1.19.0.v20230416-1150, build=5945, branch=c5558820f367665758d4d719b7553a02ff4954e0\n",
      "7. 21:51:29] Performing P2 Director (Eclipse IDE for Java Developers (2023-06))\n",
      "8. 21:51:29] Offline = false\n",
      "9. 21:51:29] Mirrors = true\n",
      "------\n"
     ]
    }
   ],
   "source": [
    "def parse_log_file(log_file_name):\n",
    "    log_entries_by_date = {}\n",
    "    with open(log_file_name, 'r') as log_file:\n",
    "        for line in log_file:\n",
    "            parts = line.strip().split(' ', 1)\n",
    "            if len(parts) == 2:\n",
    "                timestamp, message = parts\n",
    "                date = timestamp[:10]\n",
    "                if date in log_entries_by_date:\n",
    "                    log_entries_by_date[date].append(message)\n",
    "                else:\n",
    "                    log_entries_by_date[date] = [message]\n",
    "    return log_entries_by_date\n",
    "\n",
    "def analyze_log_data(log_entries_by_date):\n",
    "    for date, entries in log_entries_by_date.items():\n",
    "        print(f\"Date: {date}\")\n",
    "        print(f\"Total Entries: {len(entries)}\")\n",
    "        print(\"Sample Entries:\")\n",
    "        for i, entry in enumerate(entries[:9], start=1):\n",
    "            print(f\"{i}. {entry}\")\n",
    "        print(\"------\")\n",
    "\n",
    "if __name__ == \"__main__\":\n",
    "    log_file_name = 'logfile.txt'\n",
    "    log_entries_by_date = parse_log_file(log_file_name)\n",
    "    analyze_log_data(log_entries_by_date)\n",
    "\n",
    "    \n"
   ]
  },
  {
   "cell_type": "markdown",
   "id": "aad4119d",
   "metadata": {},
   "source": [
    "# 5. Text File Search and Replace: You have a text file with a large amount of text, and you want to search for specific words or phrases and replace them with new content.\n",
    "a. Write Python code to search for and replace text within a text file.\n",
    "\n",
    "b. How would you handle cases where you need to perform multiple replacements in a single pass?"
   ]
  },
  {
   "cell_type": "code",
   "execution_count": 64,
   "id": "9cc15da1",
   "metadata": {},
   "outputs": [
    {
     "name": "stdout",
     "output_type": "stream",
     "text": [
      "mango\n",
      "orange\n",
      "guava\n",
      "jack fruit \n"
     ]
    }
   ],
   "source": [
    "def search_n_replace(input_file, output_file, search_replace_dict):\n",
    "    with open(input_file, 'r') as file:\n",
    "         content = file.read()\n",
    "            \n",
    "    with open(output_file, 'w') as file2:\n",
    "            for search, replace in search_replace_dict.items():\n",
    "                content = content.replace(search, replace)\n",
    "            file2.write(content)\n",
    "\n",
    "\n",
    "input_file = \"input.txt\"\n",
    "output_file = \"output.txt\"\n",
    "search_replace_dict = {\n",
    "    \"apple\": \"mango\",\n",
    "    \"banana\": \"orange\",\n",
    "    \"cherry\" :\"guava\",\n",
    "    \"date\" : \"jack fruit \"\n",
    "    \n",
    "}\n",
    "\n",
    "search_n_replace(input_file, output_file, search_replace_dict)\n",
    "with open(output_file, \"r\") as file2:\n",
    "    print(file2.read())\n"
   ]
  },
  {
   "cell_type": "markdown",
   "id": "2e2025ff",
   "metadata": {},
   "source": [
    "# 6. Write a Python script that concatenates the contents of multiple text files into a single output file. Allow the user to specify the input files and the output file."
   ]
  },
  {
   "cell_type": "code",
   "execution_count": 73,
   "id": "22e952ca",
   "metadata": {},
   "outputs": [
    {
     "name": "stdout",
     "output_type": "stream",
     "text": [
      "1.Java programming language is one of dynamic and object-oriented programming languages used for the development of diverse kinds of software developed by the Java Software foundation. \n",
      "2.Its significant advantage is that facilitates integration with other programing languages and software development tools. \n",
      "3.In addition, it has in-built standard libraries that are extensive. This means that it facilitates the development of a better source code. \n",
      "4.The programming paradigm of Java language embarks on the readability of the source code enhanced through clear syntax. Apart from object-oriented programming paradigm, Java can implement other programming methodologies such as functional programing and imperative programming. \n",
      "5.Another important feature of Java language that makes it suitable as a software development tool is that it has a dynamic type system and its memory management strategy is automatic.\n",
      "6.In addition, it can support the implementation of scripting applications. It is important to note that the development model of Java language is community based, implying that its reference implementation is free and bases on the open source platform. \n",
      "7.There are various interpreters for the language for various systems software, although programs developed by Java are executable in any environment irrespective of operating system environment.1.Java programming language is one of dynamic and object-oriented programming languages used for the development of diverse kinds of software developed by the Java Software foundation. \n",
      "2.Its significant advantage is that facilitates integration with other programing languages and software development tools. \n",
      "3.In addition, it has in-built standard libraries that are extensive. This means that it facilitates the development of a better source code. \n",
      "4.The programming paradigm of Java language embarks on the readability of the source code enhanced through clear syntax. Apart from object-oriented programming paradigm, Java can implement other programming methodologies such as functional programing and imperative programming. \n",
      "5.Another important feature of Java language that makes it suitable as a software development tool is that it has a dynamic type system and its memory management strategy is automatic.\n",
      "6.In addition, it can support the implementation of scripting applications. It is important to note that the development model of Java language is community based, implying that its reference implementation is free and bases on the open source platform. \n",
      "7.There are various interpreters for the language for various systems software, although programs developed by Java are executable in any environment irrespective of operating system environment.\n"
     ]
    }
   ],
   "source": [
    "samplefile='sample.txt'\n",
    "samplefile2='sample2.txt'\n",
    "with open(samplefile, 'r') as file1:\n",
    "    content1 = file1.read()\n",
    "with open(samplefile2, 'r') as file2:\n",
    "    content2 = file2.read()\n",
    "    \n",
    "with open('totalsample','w') as Cfile:\n",
    "    content=Cfile.write(content1+content2)\n",
    "    \n",
    "with open('totalsample','r') as file3:\n",
    "    print(file3.read())\n",
    "       \n",
    "    \n",
    "    \n",
    "    \n",
    "    \n",
    "    \n",
    "    \n",
    "    \n",
    "            "
   ]
  },
  {
   "cell_type": "markdown",
   "id": "b7debe9d",
   "metadata": {},
   "source": [
    "# 7. You are given a text file named input.txt containing a list of words, one word per line.Your task is to create a Python program that reads the contents of input.txt, processes thewords, and writes the result to an output file named output.txt."
   ]
  },
  {
   "cell_type": "markdown",
   "id": "b8fd39e6",
   "metadata": {},
   "source": [
    "a. The program should perform the following operations:\n",
    "\n",
    "i. Read the words from input.txt.\n",
    "\n",
    "ii. For each word in the input file, calculate the length of the word and store it \n",
    "\n",
    "in a dictionary where the word is the key, and the length is the value.\n",
    "\n",
    "iii. Write the word-length dictionary to output.txt in the following format:\n",
    "\n",
    "iv. Close both input and output files properly.\n",
    "\n",
    "v. Write Python code to accomplish this task. Ensure proper error handling for file operations.\n"
   ]
  },
  {
   "cell_type": "code",
   "execution_count": 23,
   "id": "bb460503",
   "metadata": {},
   "outputs": [
    {
     "name": "stdout",
     "output_type": "stream",
     "text": [
      "sample.txt is not found.\n",
      "<class 'FileNotFoundError'>\n",
      "[Errno 2] No such file or directory: 'iput.txt'\n"
     ]
    }
   ],
   "source": [
    "try:\n",
    "    with open('input.txt', 'r') as input_file:\n",
    "        dict={}\n",
    "        for line in input_file:\n",
    "            word=line.strip()\n",
    "            word_length=len(word)\n",
    "            dict[word]=word_length\n",
    "    with open('output.txt','w') as output_file:\n",
    "        for word,length in dict.items():\n",
    "            output_file.write(f\"{word}: {length}\\n\")\n",
    "\n",
    "except FileNotFoundError:\n",
    "    print(f\"sample.txt is not found.\")\n",
    "    print(sys.exc_info()[0])\n",
    "    print(sys.exc_info()[1])\n",
    "\n",
    "\n",
    "else:\n",
    "    with open('output.txt', 'r') as file:\n",
    "            print(file.read())    \n",
    "    "
   ]
  },
  {
   "cell_type": "markdown",
   "id": "6c909e3f",
   "metadata": {},
   "source": [
    "# 8. Assume that you are developing a student gradebook system for a school. The system should allow teachers to input student grades for various subjects, store the data in files, and provide students with the ability to view their grades.Design a Python program that accomplishes the following tasks:\n",
    "\n",
    "i. Teachers should be able to input grades for students in different subjects.\n",
    "\n",
    "ii. Store the student grade data in separate text files for each subject.\n",
    "\n",
    "iii. Students should be able to view their grades for each subject.\n",
    "\n",
    "iv. Implement error handling for file operations, such as file not found or permission issues"
   ]
  },
  {
   "cell_type": "code",
   "execution_count": 14,
   "id": "fcf6463f",
   "metadata": {},
   "outputs": [
    {
     "name": "stdout",
     "output_type": "stream",
     "text": [
      "\n",
      "Gradebook Menu:\n",
      "1. Input Grades\n",
      "2. View Grades\n",
      "3. Exit\n",
      "Enter your choice (1/2/3): 2\n",
      "Enter the subject to view grades: physics\n",
      "No grades found for physics.\n",
      "\n",
      "Gradebook Menu:\n",
      "1. Input Grades\n",
      "2. View Grades\n",
      "3. Exit\n",
      "Enter your choice (1/2/3): 2\n",
      "Enter the subject to view grades: maths\n",
      "No grades found for maths.\n",
      "\n",
      "Gradebook Menu:\n",
      "1. Input Grades\n",
      "2. View Grades\n",
      "3. Exit\n",
      "Enter your choice (1/2/3): 1\n",
      "Enter the subject: maths\n",
      "Enter the student's name: bobby\n",
      "Enter the grade: B\n",
      "Grade for bobby in maths added successfully.\n",
      "\n",
      "Gradebook Menu:\n",
      "1. Input Grades\n",
      "2. View Grades\n",
      "3. Exit\n",
      "Enter your choice (1/2/3): 1\n",
      "Enter the subject: chemistry\n",
      "Enter the student's name: nani\n",
      "Enter the grade: B\n",
      "Grade for nani in chemistry added successfully.\n",
      "\n",
      "Gradebook Menu:\n",
      "1. Input Grades\n",
      "2. View Grades\n",
      "3. Exit\n",
      "Enter your choice (1/2/3): 2\n",
      "Enter the subject to view grades: chemistry\n",
      "Grades for chemistry:\n",
      "nani: B\n",
      "\n",
      "Gradebook Menu:\n",
      "1. Input Grades\n",
      "2. View Grades\n",
      "3. Exit\n",
      "Enter your choice (1/2/3): 3\n"
     ]
    }
   ],
   "source": [
    "# Initialize an empty dictionary to store grades\n",
    "gradebook = {}\n",
    "\n",
    "def input_grades():\n",
    "    subject = input(\"Enter the subject: \")\n",
    "    student_name = input(\"Enter the student's name: \")\n",
    "    grade = input(\"Enter the grade: \")\n",
    "\n",
    "    if subject not in gradebook:\n",
    "        gradebook[subject] = {}\n",
    "\n",
    "    gradebook[subject][student_name] = grade\n",
    "    print(f\"Grade for {student_name} in {subject} added successfully.\")\n",
    "\n",
    "def view_grades():\n",
    "    subject = input(\"Enter the subject to view grades: \")\n",
    "    if subject in gradebook:\n",
    "        print(f\"Grades for {subject}:\")\n",
    "        for student, grade in gradebook[subject].items():\n",
    "            print(f\"{student}: {grade}\")\n",
    "    else:\n",
    "        print(f\"No grades found for {subject}.\")\n",
    "\n",
    "while True:\n",
    "    print(\"\\nGradebook Menu:\")\n",
    "    print(\"1. Input Grades\")\n",
    "    print(\"2. View Grades\")\n",
    "    print(\"3. Exit\")\n",
    "\n",
    "    choice = input(\"Enter your choice (1/2/3): \")\n",
    "\n",
    "    if choice == '1':\n",
    "        input_grades()\n",
    "    elif choice == '2':\n",
    "        view_grades()\n",
    "    elif choice == '3':\n",
    "        break\n",
    "    else:\n",
    "        print(\"Invalid choice. Please select a valid option.\")\n"
   ]
  },
  {
   "cell_type": "code",
   "execution_count": null,
   "id": "30cd7847",
   "metadata": {},
   "outputs": [],
   "source": []
  }
 ],
 "metadata": {
  "kernelspec": {
   "display_name": "Python 3 (ipykernel)",
   "language": "python",
   "name": "python3"
  },
  "language_info": {
   "codemirror_mode": {
    "name": "ipython",
    "version": 3
   },
   "file_extension": ".py",
   "mimetype": "text/x-python",
   "name": "python",
   "nbconvert_exporter": "python",
   "pygments_lexer": "ipython3",
   "version": "3.11.4"
  }
 },
 "nbformat": 4,
 "nbformat_minor": 5
}
