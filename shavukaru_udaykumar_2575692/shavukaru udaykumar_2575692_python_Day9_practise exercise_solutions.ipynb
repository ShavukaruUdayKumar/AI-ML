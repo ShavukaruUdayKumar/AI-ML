{
 "cells": [
  {
   "cell_type": "markdown",
   "id": "6b1233ab",
   "metadata": {},
   "source": [
    "# 1. Create a 3x3x3 array with random values"
   ]
  },
  {
   "cell_type": "code",
   "execution_count": 1,
   "id": "5d8f0870",
   "metadata": {},
   "outputs": [
    {
     "name": "stdout",
     "output_type": "stream",
     "text": [
      "[[[0.87720598 0.69946079 0.26707184]\n",
      "  [0.38722809 0.56067626 0.13240431]\n",
      "  [0.93132747 0.35527766 0.85622044]]\n",
      "\n",
      " [[0.32731197 0.10277206 0.58156474]\n",
      "  [0.72435465 0.93356842 0.03393548]\n",
      "  [0.97309379 0.56759404 0.11048338]]\n",
      "\n",
      " [[0.86084765 0.58310043 0.22666963]\n",
      "  [0.16569497 0.35474713 0.54001939]\n",
      "  [0.66002343 0.33811475 0.24829807]]]\n"
     ]
    }
   ],
   "source": [
    "import numpy as np\n",
    "\n",
    "random_array = np.random.rand(3, 3, 3)\n",
    "print(random_array)\n"
   ]
  },
  {
   "cell_type": "markdown",
   "id": "02a709e6",
   "metadata": {},
   "source": [
    "# 2.Create a 5x5 matrix with values 1,2,3,4 just below the diagonal."
   ]
  },
  {
   "cell_type": "code",
   "execution_count": 2,
   "id": "04648e27",
   "metadata": {},
   "outputs": [
    {
     "name": "stdout",
     "output_type": "stream",
     "text": [
      "[[0. 0. 0. 0. 0.]\n",
      " [1. 0. 0. 0. 0.]\n",
      " [0. 2. 0. 0. 0.]\n",
      " [0. 0. 3. 0. 0.]\n",
      " [0. 0. 0. 4. 0.]]\n"
     ]
    }
   ],
   "source": [
    "import numpy as np\n",
    "matrix = np.zeros((5, 5))\n",
    "values = [1, 2, 3, 4]\n",
    "np.fill_diagonal(matrix[1:], values)\n",
    "print(matrix)\n"
   ]
  },
  {
   "cell_type": "markdown",
   "id": "21670db6",
   "metadata": {},
   "source": [
    "# 3.Create a 8x8 matrix and fill it with a checkerboard pattern"
   ]
  },
  {
   "cell_type": "code",
   "execution_count": 3,
   "id": "2f6f0da9",
   "metadata": {},
   "outputs": [
    {
     "name": "stdout",
     "output_type": "stream",
     "text": [
      "[[0 1 0 1 0 1 0 1]\n",
      " [1 0 1 0 1 0 1 0]\n",
      " [0 1 0 1 0 1 0 1]\n",
      " [1 0 1 0 1 0 1 0]\n",
      " [0 1 0 1 0 1 0 1]\n",
      " [1 0 1 0 1 0 1 0]\n",
      " [0 1 0 1 0 1 0 1]\n",
      " [1 0 1 0 1 0 1 0]]\n"
     ]
    }
   ],
   "source": [
    "import numpy as np\n",
    "matrix = np.zeros((8, 8), dtype=int)\n",
    "matrix[1::2, ::2] = 1 \n",
    "matrix[::2, 1::2] = 1 \n",
    "print(matrix)\n"
   ]
  },
  {
   "cell_type": "markdown",
   "id": "e55112c6",
   "metadata": {},
   "source": [
    "# 4. Normalize a 5x5 random matrix"
   ]
  },
  {
   "cell_type": "code",
   "execution_count": 5,
   "id": "59a354ea",
   "metadata": {},
   "outputs": [
    {
     "name": "stdout",
     "output_type": "stream",
     "text": [
      "Original Matrix:\n",
      "[[0.48767412 0.46516453 0.63145108 0.04065497 0.41948865]\n",
      " [0.95180203 0.79769613 0.98194299 0.03423215 0.1198928 ]\n",
      " [0.71788289 0.8635316  0.46291037 0.94931855 0.30043736]\n",
      " [0.38783113 0.78181828 0.24791989 0.86526084 0.17454203]\n",
      " [0.78974992 0.1115671  0.58171173 0.5471133  0.63925746]]\n",
      "\n",
      "Normalized Matrix:\n",
      "[[0.47846025 0.45470872 0.63016998 0.00677719 0.40651271]\n",
      " [0.96819603 0.80558747 1.         0.         0.0903869 ]\n",
      " [0.7213706  0.87505535 0.45233018 0.96557553 0.28089286]\n",
      " [0.37310851 0.78883358 0.22547778 0.87688    0.14805136]\n",
      " [0.79720283 0.08160184 0.57768631 0.54117894 0.63840708]]\n"
     ]
    }
   ],
   "source": [
    "import numpy as np\n",
    "random_matrix = np.random.rand(5, 5)\n",
    "min_value = random_matrix.min()\n",
    "max_value = random_matrix.max()\n",
    "normalized_matrix = (random_matrix - min_value) / (max_value - min_value)\n",
    "print(\"Original Matrix:\")\n",
    "print(random_matrix)\n",
    "print(\"\\nNormalized Matrix:\")\n",
    "print(normalized_matrix)"
   ]
  },
  {
   "cell_type": "markdown",
   "id": "e5ade107",
   "metadata": {},
   "source": [
    "# 5. How to find common values between two arrays?"
   ]
  },
  {
   "cell_type": "code",
   "execution_count": 7,
   "id": "94612dad",
   "metadata": {},
   "outputs": [
    {
     "name": "stdout",
     "output_type": "stream",
     "text": [
      "Common Values: [2 5 7 8]\n"
     ]
    }
   ],
   "source": [
    "import numpy as np\n",
    "array1 = np.array([2, 5, 7, 8, 9])\n",
    "array2 = np.array([3, 2, 5, 8, 7])\n",
    "common_values = np.intersect1d(array1, array2)\n",
    "print(\"Common Values:\", common_values)"
   ]
  },
  {
   "cell_type": "markdown",
   "id": "e717b0f7",
   "metadata": {},
   "source": [
    "# 6.How to get the dates of yesterday, today and tomorrow?"
   ]
  },
  {
   "cell_type": "code",
   "execution_count": 8,
   "id": "d935d4a3",
   "metadata": {},
   "outputs": [
    {
     "name": "stdout",
     "output_type": "stream",
     "text": [
      "Yesterday: 2023-09-20\n",
      "Today: 2023-09-21\n",
      "Tomorrow: 2023-09-22\n"
     ]
    }
   ],
   "source": [
    "import datetime\n",
    "today = datetime.date.today()\n",
    "yesterday = today - datetime.timedelta(days=1)\n",
    "tomorrow = today + datetime.timedelta(days=1)\n",
    "print(\"Yesterday:\", yesterday)\n",
    "print(\"Today:\", today)\n",
    "print(\"Tomorrow:\", tomorrow)\n"
   ]
  },
  {
   "cell_type": "markdown",
   "id": "3f9d1796",
   "metadata": {},
   "source": [
    "# 7. Consider two random array A and B, check if they are equal"
   ]
  },
  {
   "cell_type": "code",
   "execution_count": 10,
   "id": "52286788",
   "metadata": {},
   "outputs": [
    {
     "name": "stdout",
     "output_type": "stream",
     "text": [
      "Arrays A and B are not equal.\n"
     ]
    }
   ],
   "source": [
    "import numpy as np\n",
    "A = np.random.rand(5)\n",
    "B = np.random.rand(5)\n",
    "are_equal = np.array_equal(A, B)\n",
    "if are_equal:\n",
    "    print(\"Arrays A and B are equal.\")\n",
    "else:\n",
    "    print(\"Arrays A and B are not equal.\")\n"
   ]
  },
  {
   "cell_type": "markdown",
   "id": "f4f9ed8b",
   "metadata": {},
   "source": [
    "# 8.Create random vector of size 10 and replace the maximum value by 0\n"
   ]
  },
  {
   "cell_type": "code",
   "execution_count": 14,
   "id": "a2777712",
   "metadata": {},
   "outputs": [
    {
     "name": "stdout",
     "output_type": "stream",
     "text": [
      "Original Vector:\n",
      "[0.16147818 0.95078975 0.43584364 0.32067263 0.93500444 0.\n",
      " 0.84073168 0.46690496 0.15915157 0.82855964]\n"
     ]
    }
   ],
   "source": [
    "import numpy as np\n",
    "random_vector = np.random.rand(10)\n",
    "max_index = np.argmax(random_vector)\n",
    "random_vector[max_index] = 0\n",
    "print(\"Original Vector:\")\n",
    "print(random_vector)\n"
   ]
  },
  {
   "cell_type": "markdown",
   "id": "3c0a04f0",
   "metadata": {},
   "source": [
    "# 9. How to print all the values of an array?\n"
   ]
  },
  {
   "cell_type": "code",
   "execution_count": 16,
   "id": "37cae8b4",
   "metadata": {},
   "outputs": [
    {
     "name": "stdout",
     "output_type": "stream",
     "text": [
      "1 2 3 4 5 "
     ]
    }
   ],
   "source": [
    "import numpy as np\n",
    "array = np.array([1, 2, 3, 4, 5])\n",
    "for i in array:\n",
    "    print(i, end=' ')"
   ]
  },
  {
   "cell_type": "markdown",
   "id": "5e6641b9",
   "metadata": {},
   "source": [
    "# 10.Subtract the mean of each row of a matrix\n"
   ]
  },
  {
   "cell_type": "code",
   "execution_count": 20,
   "id": "ce0e9eab",
   "metadata": {},
   "outputs": [
    {
     "name": "stdout",
     "output_type": "stream",
     "text": [
      "Original Matrix:\n",
      "[[1 2 3]\n",
      " [4 5 6]\n",
      " [7 8 9]]\n",
      "\n",
      "row_means: \n",
      "[[2.]\n",
      " [5.]\n",
      " [8.]]\n",
      "\n",
      "\n",
      "Matrix with Row Means Subtracted:\n",
      "[[-1.  0.  1.]\n",
      " [-1.  0.  1.]\n",
      " [-1.  0.  1.]]\n"
     ]
    }
   ],
   "source": [
    "import numpy as np\n",
    "matrix = np.array([[1, 2, 3],\n",
    "                   [4, 5, 6],\n",
    "                   [7, 8, 9]])\n",
    "\n",
    "row_means = np.mean(matrix, axis=1, keepdims=True)\n",
    "matrix_minus_means = matrix - row_means\n",
    "\n",
    "print(\"Original Matrix:\")\n",
    "print(matrix)\n",
    "print()\n",
    "print('row_means: ')\n",
    "print(row_means)\n",
    "print()\n",
    "print(\"\\nMatrix with Row Means Subtracted:\")\n",
    "print(matrix_minus_means)\n"
   ]
  },
  {
   "cell_type": "markdown",
   "id": "fbdceed6",
   "metadata": {},
   "source": [
    "# 11.Consider a given vector, how to add 1 to each element indexed by a second vector (be careful with repeated indices)?\n"
   ]
  },
  {
   "cell_type": "code",
   "execution_count": 24,
   "id": "0d21747f",
   "metadata": {},
   "outputs": [
    {
     "name": "stdout",
     "output_type": "stream",
     "text": [
      "Given Vector: [1 2 3 4 5]\n",
      "Result Vector: [2 3 4 5 5]\n"
     ]
    }
   ],
   "source": [
    "import numpy as np\n",
    "given_vector = np.array([1, 2, 3, 4, 5])\n",
    "indices_vector = np.array([1, 3, 2, 1, 0])\n",
    "result_vector = given_vector.copy()\n",
    "result_vector[indices_vector] += 1\n",
    "print(\"Given Vector:\", given_vector)\n",
    "print(\"Result Vector:\", result_vector)\n"
   ]
  },
  {
   "cell_type": "markdown",
   "id": "4c8406a8",
   "metadata": {},
   "source": [
    "# 12.How to get the diagonal of a dot product?"
   ]
  },
  {
   "cell_type": "code",
   "execution_count": 26,
   "id": "945d9888",
   "metadata": {},
   "outputs": [
    {
     "name": "stdout",
     "output_type": "stream",
     "text": [
      "Matrix1:\n",
      "[[3 2 1]\n",
      " [2 1 6]\n",
      " [9 8 7]]\n",
      "\n",
      "Matrix2:\n",
      "[[5 8 2]\n",
      " [6 9 7]\n",
      " [4 2 3]]\n",
      "\n",
      "Dot Product:\n",
      "[[ 31  44  23]\n",
      " [ 40  37  29]\n",
      " [121 158  95]]\n",
      "\n",
      "Diagonal of Dot Product:\n",
      "[31 37 95]\n"
     ]
    }
   ],
   "source": [
    "import numpy as np\n",
    "\n",
    "matrix1 = np.array([[3, 2, 1],\n",
    "                    [2, 1, 6],\n",
    "                    [9, 8, 7]])\n",
    "\n",
    "matrix2 = np.array([[5, 8, 2],\n",
    "                    [6, 9, 7],\n",
    "                    [4, 2, 3]])\n",
    "dot_product = np.dot(matrix1, matrix2)\n",
    "diagonal = np.diag(dot_product)\n",
    "\n",
    "print(\"Matrix1:\")\n",
    "print(matrix1)\n",
    "\n",
    "print(\"\\nMatrix2:\")\n",
    "print(matrix2)\n",
    "\n",
    "print(\"\\nDot Product:\")\n",
    "print(dot_product)\n",
    "\n",
    "print(\"\\nDiagonal of Dot Product:\")\n",
    "print(diagonal)\n"
   ]
  },
  {
   "cell_type": "markdown",
   "id": "24d20a4b",
   "metadata": {},
   "source": [
    "# 13.How to find the most frequent value in an array?"
   ]
  },
  {
   "cell_type": "code",
   "execution_count": 32,
   "id": "3c08047e",
   "metadata": {},
   "outputs": [
    {
     "name": "stdout",
     "output_type": "stream",
     "text": [
      "Array: [0 3 4 7 7 6 2 2 3 6 4 8 8 5 9 0 7 7 7 5 4 5 2 5 6 0 1 7 5 6 7 1 1 1 1 9 7\n",
      " 5 9 5 4 5 6 0 9 5 7 5 9 2]\n",
      "\n",
      "Most Frequent Value: 5\n",
      "Count: 10\n"
     ]
    }
   ],
   "source": [
    "import numpy as np\n",
    "x = np.random.randint(0, 10, 50)\n",
    "counts = np.bincount(x)\n",
    "most_frequent_value = np.argmax(counts)\n",
    "print(\"Array:\", x)\n",
    "print(\"\\nMost Frequent Value:\", most_frequent_value)\n",
    "print(\"Count:\", counts[most_frequent_value])\n"
   ]
  },
  {
   "cell_type": "markdown",
   "id": "65bd179b",
   "metadata": {},
   "source": [
    "# 14.How to get the n largest values of an array\n"
   ]
  },
  {
   "cell_type": "code",
   "execution_count": 34,
   "id": "cfe08c18",
   "metadata": {},
   "outputs": [
    {
     "name": "stdout",
     "output_type": "stream",
     "text": [
      "Original array: [46 25 22 49 57  6 53 65]\n",
      "5 largest values: [57 65 53 49 46]\n"
     ]
    }
   ],
   "source": [
    "import numpy as np\n",
    "array = np.array([46,25,22,49,57,6,53,65])\n",
    "n = 5\n",
    "pindices = np.argpartition(-array, n)[:n]\n",
    "n_large = array[pindices]\n",
    "print(\"Original array:\", array)\n",
    "print(f\"{n} largest values:\", n_large)"
   ]
  },
  {
   "cell_type": "markdown",
   "id": "45876891",
   "metadata": {},
   "source": [
    "# 15.How to create a record array from a regular array?"
   ]
  },
  {
   "cell_type": "code",
   "execution_count": 35,
   "id": "34ca2b00",
   "metadata": {},
   "outputs": [
    {
     "name": "stdout",
     "output_type": "stream",
     "text": [
      "ID: [1 2 3]\n",
      "Name: ['nani' 'palav' 'krish']\n",
      "Age: [25 30 35]\n"
     ]
    }
   ],
   "source": [
    "import numpy as np\n",
    "rarray = np.array([(1, 'nani', 25),\n",
    "                           (2, 'palav', 30),\n",
    "                           (3, 'krish', 35)],\n",
    "                          dtype=[('ID', int), ('Name', 'U10'), ('Age', int)])\n",
    "record_array = np.array(rarray.tolist(), dtype=[('ID', int), ('Name', 'U10'), ('Age', int)])\n",
    "print(\"ID:\", record_array['ID'])\n",
    "print(\"Name:\", record_array['Name'])\n",
    "print(\"Age:\", record_array['Age'])"
   ]
  },
  {
   "cell_type": "markdown",
   "id": "6113be07",
   "metadata": {},
   "source": [
    "# 16. How to swap two rows of an array?"
   ]
  },
  {
   "cell_type": "code",
   "execution_count": 40,
   "id": "1fdc4a6d",
   "metadata": {},
   "outputs": [
    {
     "name": "stdout",
     "output_type": "stream",
     "text": [
      "[[5 1 7]\n",
      " [4 3 2]\n",
      " [9 6 8]]\n"
     ]
    }
   ],
   "source": [
    "import numpy as np\n",
    "matrix = np.array([[9, 6, 8],\n",
    "                   [4, 3, 2],\n",
    "                   [5, 1, 7]])\n",
    "\n",
    "matrix[0], matrix[2] = matrix[2].copy(), matrix[0].copy()\n",
    "print(matrix)\n"
   ]
  },
  {
   "cell_type": "markdown",
   "id": "321e859b",
   "metadata": {},
   "source": [
    "# 17. Write python code to reshape to the next dimension of numpy array?"
   ]
  },
  {
   "cell_type": "code",
   "execution_count": 41,
   "id": "41a38f60",
   "metadata": {},
   "outputs": [
    {
     "name": "stdout",
     "output_type": "stream",
     "text": [
      "Original Array (1D):\n",
      "[ 0  1  2  3  4  5  6  7  8  9 10 11]\n",
      "\n",
      "Reshaped Array (2D):\n",
      "[[ 0  1  2  3]\n",
      " [ 4  5  6  7]\n",
      " [ 8  9 10 11]]\n",
      "\n",
      "Reshaped to Next Dimension (3D):\n",
      "[[[ 0]\n",
      "  [ 1]\n",
      "  [ 2]\n",
      "  [ 3]]\n",
      "\n",
      " [[ 4]\n",
      "  [ 5]\n",
      "  [ 6]\n",
      "  [ 7]]\n",
      "\n",
      " [[ 8]\n",
      "  [ 9]\n",
      "  [10]\n",
      "  [11]]]\n"
     ]
    }
   ],
   "source": [
    "import numpy as np\n",
    "original = np.arange(12)\n",
    "reshaped = original.reshape(3, 4)\n",
    "next_dimension = reshaped.reshape(3, 4, 1)\n",
    "print(\"Original Array (1D):\")\n",
    "print(original)\n",
    "print(\"\\nReshaped Array (2D):\")\n",
    "print(reshaped)\n",
    "print(\"\\nReshaped to Next Dimension (3D):\")\n",
    "print(next_dimension)"
   ]
  }
 ],
 "metadata": {
  "kernelspec": {
   "display_name": "Python 3 (ipykernel)",
   "language": "python",
   "name": "python3"
  },
  "language_info": {
   "codemirror_mode": {
    "name": "ipython",
    "version": 3
   },
   "file_extension": ".py",
   "mimetype": "text/x-python",
   "name": "python",
   "nbconvert_exporter": "python",
   "pygments_lexer": "ipython3",
   "version": "3.11.4"
  }
 },
 "nbformat": 4,
 "nbformat_minor": 5
}
