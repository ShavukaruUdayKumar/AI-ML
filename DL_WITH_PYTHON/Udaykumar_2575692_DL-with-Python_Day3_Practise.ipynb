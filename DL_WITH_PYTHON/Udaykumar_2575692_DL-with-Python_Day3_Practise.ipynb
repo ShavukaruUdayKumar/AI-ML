{
 "cells": [
  {
   "cell_type": "markdown",
   "metadata": {},
   "source": [
    "# 1.Build a deep learning model to classify the mnist digits dataset with Batch Normalization."
   ]
  },
  {
   "cell_type": "code",
   "execution_count": null,
   "metadata": {},
   "outputs": [],
   "source": [
    "from keras.datasets import mnist\n",
    "from keras.models import Sequential\n",
    "from keras.layers import Dense\n",
    "from keras.optimizers import SGD\n",
    "from matplotlib import pyplot\n",
    "import matplotlib.pyplot as plt\n",
    "from keras.layers import BatchNormalization"
   ]
  },
  {
   "cell_type": "code",
   "execution_count": 25,
   "metadata": {},
   "outputs": [],
   "source": [
    "batch_size=128\n",
    "num_classes=10\n",
    "epochs=20"
   ]
  },
  {
   "cell_type": "code",
   "execution_count": 26,
   "metadata": {},
   "outputs": [
    {
     "name": "stdout",
     "output_type": "stream",
     "text": [
      "Downloading data from https://storage.googleapis.com/tensorflow/tf-keras-datasets/mnist.npz\n",
      "11490434/11490434 [==============================] - 3s 0us/step\n",
      "Shape-x:\t (60000, 28, 28)\n",
      "Shape-y:\t (60000,)\n"
     ]
    }
   ],
   "source": [
    "(xtrain,ytrain),(xtest,ytest)=mnist.load_data()\n",
    "print('Shape-x:\\t',xtrain.shape)\n",
    "print('Shape-y:\\t',ytrain.shape)\n"
   ]
  },
  {
   "cell_type": "code",
   "execution_count": 27,
   "metadata": {},
   "outputs": [
    {
     "name": "stdout",
     "output_type": "stream",
     "text": [
      "Shape-x-train:\t (60000, 784)\n",
      "Shape-x-Test:\t (10000, 784)\n"
     ]
    }
   ],
   "source": [
    "xtrain=xtrain.reshape(60000,784)\n",
    "xtest=xtest.reshape(10000,784)\n",
    "print('Shape-x-train:\\t',xtrain.shape)\n",
    "print('Shape-x-Test:\\t',xtest.shape)"
   ]
  },
  {
   "cell_type": "code",
   "execution_count": 28,
   "metadata": {},
   "outputs": [],
   "source": [
    "xtrain=xtrain.astype('float32')\n",
    "xtest=xtest.astype('float32')"
   ]
  },
  {
   "cell_type": "code",
   "execution_count": 29,
   "metadata": {},
   "outputs": [],
   "source": [
    "xtrain=xtrain/255.\n",
    "xtest=xtest/255."
   ]
  },
  {
   "cell_type": "code",
   "execution_count": 30,
   "metadata": {},
   "outputs": [
    {
     "name": "stdout",
     "output_type": "stream",
     "text": [
      "60000 train samples\n",
      "10000 test samples\n"
     ]
    }
   ],
   "source": [
    "print(xtrain.shape[0],'train samples')\n",
    "print(xtest.shape[0],'test samples')"
   ]
  },
  {
   "cell_type": "code",
   "execution_count": 31,
   "metadata": {},
   "outputs": [],
   "source": [
    "import keras\n",
    "ytrain=keras.utils.to_categorical(ytrain,num_classes)\n",
    "ytest=keras.utils.to_categorical(ytest,num_classes)"
   ]
  },
  {
   "cell_type": "code",
   "execution_count": 32,
   "metadata": {},
   "outputs": [
    {
     "data": {
      "text/plain": [
       "(60000, 10)"
      ]
     },
     "execution_count": 32,
     "metadata": {},
     "output_type": "execute_result"
    }
   ],
   "source": [
    "ytrain.shape"
   ]
  },
  {
   "cell_type": "code",
   "execution_count": 40,
   "metadata": {},
   "outputs": [],
   "source": [
    "model=Sequential()\n",
    "model.add(Dense(512,activation='relu',input_shape=(784,)))\n",
    "model.add(Dense(512,activation='relu'))\n",
    "model.add(BatchNormalization())\n",
    "model.add(Dense(num_classes,activation='softmax'))\n",
    "optm=SGD(learning_rate=0.01,momentum=0.9)\n",
    "\n",
    "model.compile(loss='binary_crossentropy',optimizer=optm,metrics=['accuracy'])"
   ]
  },
  {
   "cell_type": "code",
   "execution_count": 41,
   "metadata": {},
   "outputs": [
    {
     "name": "stdout",
     "output_type": "stream",
     "text": [
      "Model: \"sequential_5\"\n",
      "_________________________________________________________________\n",
      " Layer (type)                Output Shape              Param #   \n",
      "=================================================================\n",
      " dense_11 (Dense)            (None, 512)               401920    \n",
      "                                                                 \n",
      " dense_12 (Dense)            (None, 512)               262656    \n",
      "                                                                 \n",
      " batch_normalization_4 (Bat  (None, 512)               2048      \n",
      " chNormalization)                                                \n",
      "                                                                 \n",
      " dense_13 (Dense)            (None, 10)                5130      \n",
      "                                                                 \n",
      "=================================================================\n",
      "Total params: 671754 (2.56 MB)\n",
      "Trainable params: 670730 (2.56 MB)\n",
      "Non-trainable params: 1024 (4.00 KB)\n",
      "_________________________________________________________________\n"
     ]
    }
   ],
   "source": [
    "model.summary()"
   ]
  },
  {
   "cell_type": "code",
   "execution_count": 42,
   "metadata": {},
   "outputs": [
    {
     "name": "stdout",
     "output_type": "stream",
     "text": [
      "Epoch 1/20\n",
      "1875/1875 [==============================] - 28s 14ms/step - loss: 0.0837 - accuracy: 0.9241 - val_loss: 0.0289 - val_accuracy: 0.9630\n",
      "Epoch 2/20\n",
      "1875/1875 [==============================] - 25s 13ms/step - loss: 0.0270 - accuracy: 0.9658 - val_loss: 0.0223 - val_accuracy: 0.9694\n",
      "Epoch 3/20\n",
      "1875/1875 [==============================] - 24s 13ms/step - loss: 0.0195 - accuracy: 0.9758 - val_loss: 0.0184 - val_accuracy: 0.9738\n",
      "Epoch 4/20\n",
      "1875/1875 [==============================] - 24s 13ms/step - loss: 0.0151 - accuracy: 0.9825 - val_loss: 0.0158 - val_accuracy: 0.9774\n",
      "Epoch 5/20\n",
      "1875/1875 [==============================] - 25s 13ms/step - loss: 0.0120 - accuracy: 0.9867 - val_loss: 0.0146 - val_accuracy: 0.9778\n",
      "Epoch 6/20\n",
      "1875/1875 [==============================] - 25s 13ms/step - loss: 0.0098 - accuracy: 0.9901 - val_loss: 0.0142 - val_accuracy: 0.9787\n",
      "Epoch 7/20\n",
      "1875/1875 [==============================] - 25s 13ms/step - loss: 0.0083 - accuracy: 0.9920 - val_loss: 0.0136 - val_accuracy: 0.9803\n",
      "Epoch 8/20\n",
      "1875/1875 [==============================] - 27s 14ms/step - loss: 0.0069 - accuracy: 0.9939 - val_loss: 0.0128 - val_accuracy: 0.9813\n",
      "Epoch 9/20\n",
      "1875/1875 [==============================] - 25s 13ms/step - loss: 0.0058 - accuracy: 0.9958 - val_loss: 0.0124 - val_accuracy: 0.9819\n",
      "Epoch 10/20\n",
      "1875/1875 [==============================] - 25s 14ms/step - loss: 0.0048 - accuracy: 0.9969 - val_loss: 0.0125 - val_accuracy: 0.9815\n",
      "Epoch 11/20\n",
      "1875/1875 [==============================] - 26s 14ms/step - loss: 0.0042 - accuracy: 0.9976 - val_loss: 0.0122 - val_accuracy: 0.9815\n",
      "Epoch 12/20\n",
      "1875/1875 [==============================] - 24s 13ms/step - loss: 0.0034 - accuracy: 0.9983 - val_loss: 0.0119 - val_accuracy: 0.9838\n",
      "Epoch 13/20\n",
      "1875/1875 [==============================] - 26s 14ms/step - loss: 0.0031 - accuracy: 0.9986 - val_loss: 0.0122 - val_accuracy: 0.9824\n",
      "Epoch 14/20\n",
      "1875/1875 [==============================] - 25s 13ms/step - loss: 0.0027 - accuracy: 0.9990 - val_loss: 0.0122 - val_accuracy: 0.9830\n",
      "Epoch 15/20\n",
      "1875/1875 [==============================] - 24s 13ms/step - loss: 0.0024 - accuracy: 0.9992 - val_loss: 0.0124 - val_accuracy: 0.9819\n",
      "Epoch 16/20\n",
      "1875/1875 [==============================] - 26s 14ms/step - loss: 0.0022 - accuracy: 0.9994 - val_loss: 0.0121 - val_accuracy: 0.9833\n",
      "Epoch 17/20\n",
      "1875/1875 [==============================] - 25s 13ms/step - loss: 0.0019 - accuracy: 0.9996 - val_loss: 0.0120 - val_accuracy: 0.9828\n",
      "Epoch 18/20\n",
      "1875/1875 [==============================] - 26s 14ms/step - loss: 0.0017 - accuracy: 0.9997 - val_loss: 0.0119 - val_accuracy: 0.9828\n",
      "Epoch 19/20\n",
      "1875/1875 [==============================] - 24s 13ms/step - loss: 0.0016 - accuracy: 0.9997 - val_loss: 0.0119 - val_accuracy: 0.9836\n",
      "Epoch 20/20\n",
      "1875/1875 [==============================] - 25s 13ms/step - loss: 0.0014 - accuracy: 0.9998 - val_loss: 0.0119 - val_accuracy: 0.9839\n"
     ]
    }
   ],
   "source": [
    "history=model.fit(xtrain,ytrain,validation_data=(xtest,ytest),epochs=20,verbose=1)"
   ]
  },
  {
   "cell_type": "code",
   "execution_count": 43,
   "metadata": {},
   "outputs": [
    {
     "name": "stdout",
     "output_type": "stream",
     "text": [
      "1875/1875 [==============================] - 14s 7ms/step - loss: 5.7513e-04 - accuracy: 1.0000\n",
      "313/313 [==============================] - 3s 8ms/step - loss: 0.0119 - accuracy: 0.9839\n",
      "Train Accuracy:\t 0.9999666810035706\n",
      "\n",
      "Test Accuracy:\t 0.9839000105857849\n"
     ]
    }
   ],
   "source": [
    "_,train_acc=model.evaluate(xtrain,ytrain,verbose=1)\n",
    "_,test_acc=model.evaluate(xtest,ytest,verbose=1)\n",
    "print('Train Accuracy:\\t',train_acc)\n",
    "print()\n",
    "print('Test Accuracy:\\t',test_acc)"
   ]
  },
  {
   "cell_type": "code",
   "execution_count": 44,
   "metadata": {},
   "outputs": [
    {
     "data": {
      "image/png": "[encoded data removed]",
      "text/plain": [
       "<Figure size 640x480 with 1 Axes>"
      ]
     },
     "metadata": {},
     "output_type": "display_data"
    }
   ],
   "source": [
    "pyplot.plot(history.history['accuracy'],label='train')\n",
    "pyplot.plot(history.history['val_accuracy'],label='test')\n",
    "pyplot.legend()\n",
    "pyplot.show()"
   ]
  },
  {
   "cell_type": "code",
   "execution_count": 45,
   "metadata": {},
   "outputs": [
    {
     "data": {
      "image/png": "[encoded data removed]",
      "text/plain": [
       "<Figure size 640x480 with 1 Axes>"
      ]
     },
     "metadata": {},
     "output_type": "display_data"
    }
   ],
   "source": [
    "pyplot.plot(history.history['loss'],label='train')\n",
    "pyplot.plot(history.history['val_loss'],label='test')\n",
    "pyplot.legend()\n",
    "pyplot.show()"
   ]
  },
  {
   "cell_type": "markdown",
   "metadata": {},
   "source": [
    "# 2.Build a Feed Forward Neural Network for any problems with keras tuner."
   ]
  },
  {
   "cell_type": "code",
   "execution_count": 6,
   "metadata": {},
   "outputs": [],
   "source": [
    "import tensorflow as tf\n",
    "from tensorflow import keras\n",
    "from tensorflow.keras import layers\n",
    "from kerastuner.engine.hyperparameters import HyperParameter"
   ]
  },
  {
   "cell_type": "code",
   "execution_count": 7,
   "metadata": {},
   "outputs": [],
   "source": [
    "import keras_tuner\n",
    "from kerastuner.tuners import Hyperband"
   ]
  },
  {
   "cell_type": "code",
   "execution_count": 8,
   "metadata": {},
   "outputs": [
    {
     "name": "stdout",
     "output_type": "stream",
     "text": [
      "Trial 30 Complete [00h 01m 33s]\n",
      "val_accuracy: 0.9641000032424927\n",
      "\n",
      "Best val_accuracy So Far: 0.9785000085830688\n",
      "Total elapsed time: 00h 27m 59s\n",
      "Epoch 1/10\n",
      "1875/1875 [==============================] - 16s 7ms/step - loss: 0.4275 - accuracy: 0.8724 - val_loss: 0.1495 - val_accuracy: 0.9540\n",
      "Epoch 2/10\n",
      "1875/1875 [==============================] - 9s 5ms/step - loss: 0.2004 - accuracy: 0.9451 - val_loss: 0.1150 - val_accuracy: 0.9653\n",
      "Epoch 3/10\n",
      "1875/1875 [==============================] - 8s 4ms/step - loss: 0.1584 - accuracy: 0.9551 - val_loss: 0.1015 - val_accuracy: 0.9713\n",
      "Epoch 4/10\n",
      "1875/1875 [==============================] - 8s 4ms/step - loss: 0.1336 - accuracy: 0.9623 - val_loss: 0.0942 - val_accuracy: 0.9745\n",
      "Epoch 5/10\n",
      "1875/1875 [==============================] - 8s 4ms/step - loss: 0.1178 - accuracy: 0.9665 - val_loss: 0.0877 - val_accuracy: 0.9760\n",
      "Epoch 6/10\n",
      "1875/1875 [==============================] - 8s 4ms/step - loss: 0.1060 - accuracy: 0.9704 - val_loss: 0.0901 - val_accuracy: 0.9762\n",
      "Epoch 7/10\n",
      "1875/1875 [==============================] - 8s 4ms/step - loss: 0.0987 - accuracy: 0.9721 - val_loss: 0.0849 - val_accuracy: 0.9751\n",
      "Epoch 8/10\n",
      "1875/1875 [==============================] - 8s 4ms/step - loss: 0.0922 - accuracy: 0.9731 - val_loss: 0.0861 - val_accuracy: 0.9757\n",
      "Epoch 9/10\n",
      "1875/1875 [==============================] - 8s 4ms/step - loss: 0.0871 - accuracy: 0.9754 - val_loss: 0.0832 - val_accuracy: 0.9768\n",
      "Epoch 10/10\n",
      "1875/1875 [==============================] - 8s 4ms/step - loss: 0.0814 - accuracy: 0.9762 - val_loss: 0.0876 - val_accuracy: 0.9759\n"
     ]
    },
    {
     "data": {
      "text/plain": [
       "<keras.src.callbacks.History at 0x2b13400c990>"
      ]
     },
     "execution_count": 8,
     "metadata": {},
     "output_type": "execute_result"
    }
   ],
   "source": [
    "(x_train, y_train), (x_test, y_test) = keras.datasets.mnist.load_data()\n",
    "x_train, x_test = x_train / 255.0, x_test / 255.0\n",
    "\n",
    "def build_model(hp):\n",
    "    model = keras.Sequential()\n",
    "    model.add(layers.Flatten(input_shape=(28, 28)))\n",
    "\n",
    "    for i in range(hp.Int('num_layers', 1, 3)):\n",
    "        model.add(layers.Dense(units=hp.Int(f'units_{i}', 32, 128, step=32), activation='relu'))\n",
    "        model.add(layers.Dropout(0.2))\n",
    "\n",
    "    model.add(layers.Dense(10, activation='softmax'))\n",
    "    model.compile(\n",
    "        optimizer=keras.optimizers.Adam(learning_rate=hp.Choice('learning_rate', values=[1e-2, 1e-3, 1e-4])),\n",
    "        loss='sparse_categorical_crossentropy',\n",
    "        metrics=['accuracy']\n",
    "    )\n",
    "\n",
    "    return model\n",
    "\n",
    "\n",
    "tuner = Hyperband(\n",
    "    build_model,\n",
    "    objective='val_accuracy',\n",
    "    max_epochs=10,\n",
    "    factor=3,\n",
    "    directory='keras_tuner_dir',\n",
    "    project_name='mnist_hyperband'\n",
    ")\n",
    "\n",
    "tuner.search(x_train, y_train, epochs=10, validation_data=(x_test,y_test))\n",
    "\n",
    "# Get the best hyperparameters\n",
    "best_hps = tuner.get_best_hyperparameters(num_trials=1)[0]\n",
    "\n",
    "# Build the model with the best hyperparameters\n",
    "best_model = tuner.hypermodel.build(best_hps)\n",
    "\n",
    "# Train the model with the best hyperparameters\n",
    "best_model.fit(x_train, y_train, epochs=10, validation_data=(x_test,y_test))"
   ]
  }
 ],
 "metadata": {
  "colab": {
   "provenance": []
  },
  "kernelspec": {
   "display_name": "Python 3 (ipykernel)",
   "language": "python",
   "name": "python3"
  },
  "language_info": {
   "codemirror_mode": {
    "name": "ipython",
    "version": 3
   },
   "file_extension": ".py",
   "mimetype": "text/x-python",
   "name": "python",
   "nbconvert_exporter": "python",
   "pygments_lexer": "ipython3",
   "version": "3.11.5"
  }
 },
 "nbformat": 4,
 "nbformat_minor": 1
}
