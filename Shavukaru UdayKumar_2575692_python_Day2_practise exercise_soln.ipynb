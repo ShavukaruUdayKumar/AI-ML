{
 "cells": [
  {
   "cell_type": "markdown",
   "id": "692b82de",
   "metadata": {},
   "source": [
    "# Functions\n",
    "Write a python Function to list even and odd numbers in a list."
   ]
  },
  {
   "cell_type": "code",
   "execution_count": 1,
   "id": "90aa52b7",
   "metadata": {},
   "outputs": [
    {
     "name": "stdout",
     "output_type": "stream",
     "text": [
      "Input some numbers: 11 22 33 44 55 66 77 88 99 100\n",
      "even numbers are:  [22, 44, 66, 88, 100]\n",
      "odd numbers are:   [11, 33, 55, 77, 99]\n"
     ]
    }
   ],
   "source": [
    "lst = list(map(int, input(\"Input some numbers: \").split()))\n",
    "even=[]\n",
    "odd=[]\n",
    "\n",
    "for i in lst:\n",
    "    if i%2==0:\n",
    "        even.append(i)\n",
    "    else:\n",
    "        odd.append(i)\n",
    "\n",
    "print('even numbers are: ', even)\n",
    "print('odd numbers are:  ', odd)"
   ]
  },
  {
   "cell_type": "markdown",
   "id": "e0115d99",
   "metadata": {},
   "source": [
    "# 2. Write and run a Python program that asks the user to enter 8 integers (one at a time), and then prints out how many of those integers were even numbers. For example, if the user entered 19,6, 9, 20, 13, 7, 6, and 1, then your program should print out 3 since 3 of those numbers were even."
   ]
  },
  {
   "cell_type": "code",
   "execution_count": 4,
   "id": "5b6b865c",
   "metadata": {},
   "outputs": [
    {
     "name": "stdout",
     "output_type": "stream",
     "text": [
      "enter a number: 19\n",
      "enter a number: 6\n",
      "enter a number: 9\n",
      "enter a number: 20\n",
      "enter a number: 13\n",
      "enter a number: 7\n",
      "enter a number: 6\n",
      "enter a number: 1\n",
      "even numbers:  [6, 20, 6]\n"
     ]
    }
   ],
   "source": [
    "integers=[]\n",
    "even=[]\n",
    "for i in range(8):\n",
    "    n=int(input('enter a number: '))\n",
    "    integers.append(n)\n",
    "for i in integers:\n",
    "    if i%2==0:\n",
    "        even.append(i)\n",
    "print('even numbers: ', even)        \n",
    "    "
   ]
  },
  {
   "cell_type": "markdown",
   "id": "2a0ce70e",
   "metadata": {},
   "source": [
    "# 3. Write a Python program where you take any positive integer n, if n is even, divide it by 2 to get n/2. If n is odd, multiply it by 3 and add 1 to obtain 3n + 1. Repeat the process until you reach 1."
   ]
  },
  {
   "cell_type": "code",
   "execution_count": 18,
   "id": "17d3169e",
   "metadata": {},
   "outputs": [
    {
     "name": "stdout",
     "output_type": "stream",
     "text": [
      "enter a number: 56\n",
      "28\n",
      "14\n",
      "7\n",
      "22\n",
      "11\n",
      "34\n",
      "17\n",
      "52\n",
      "26\n",
      "13\n",
      "40\n",
      "20\n",
      "10\n",
      "5\n",
      "16\n",
      "8\n",
      "4\n",
      "2\n",
      "1\n"
     ]
    }
   ],
   "source": [
    "num=int(input('enter a number: '))\n",
    "while (num>1):\n",
    "    if num>0 and num%2==0:\n",
    "        num=num//2\n",
    "        print(num)\n",
    "    elif num>0 and num%2!=0:\n",
    "        num=3*num +1\n",
    "        print(num)\n",
    "    "
   ]
  },
  {
   "cell_type": "markdown",
   "id": "b08d01cb",
   "metadata": {},
   "source": [
    "# 4. Write a Python program to compute the sum of all the multiples of 3 or 5 below 500."
   ]
  },
  {
   "cell_type": "code",
   "execution_count": 24,
   "id": "453ac8a3",
   "metadata": {},
   "outputs": [
    {
     "name": "stdout",
     "output_type": "stream",
     "text": [
      "[0, 3, 6, 9, 12, 15, 18, 21, 24, 27, 30, 33, 36, 39, 42, 45, 48, 51, 54, 57, 60, 63, 66, 69, 72, 75, 78, 81, 84, 87, 90, 93, 96, 99, 102, 105, 108, 111, 114, 117, 120, 123, 126, 129, 132, 135, 138, 141, 144, 147, 150, 153, 156, 159, 162, 165, 168, 171, 174, 177, 180, 183, 186, 189, 192, 195, 198, 201, 204, 207, 210, 213, 216, 219, 222, 225, 228, 231, 234, 237, 240, 243, 246, 249, 252, 255, 258, 261, 264, 267, 270, 273, 276, 279, 282, 285, 288, 291, 294, 297, 300, 303, 306, 309, 312, 315, 318, 321, 324, 327, 330, 333, 336, 339, 342, 345, 348, 351, 354, 357, 360, 363, 366, 369, 372, 375, 378, 381, 384, 387, 390, 393, 396, 399, 402, 405, 408, 411, 414, 417, 420, 423, 426, 429, 432, 435, 438, 441, 444, 447, 450, 453, 456, 459, 462, 465, 468, 471, 474, 477, 480, 483, 486, 489, 492, 495, 498]\n",
      "\n",
      "sum of multiples of 3 below 500 is:  41583\n"
     ]
    }
   ],
   "source": [
    "mul_3=[]\n",
    "for i in range(500):\n",
    "    if i%3==0:\n",
    "        mul_3.append(i)\n",
    "print(mul_3) \n",
    "print()\n",
    "print(\"sum of multiples of 3 below 500 is: \", sum(mul_3))\n",
    "        "
   ]
  },
  {
   "cell_type": "code",
   "execution_count": 25,
   "id": "feed93f3",
   "metadata": {},
   "outputs": [
    {
     "name": "stdout",
     "output_type": "stream",
     "text": [
      "[0, 5, 10, 15, 20, 25, 30, 35, 40, 45, 50, 55, 60, 65, 70, 75, 80, 85, 90, 95, 100, 105, 110, 115, 120, 125, 130, 135, 140, 145, 150, 155, 160, 165, 170, 175, 180, 185, 190, 195, 200, 205, 210, 215, 220, 225, 230, 235, 240, 245, 250, 255, 260, 265, 270, 275, 280, 285, 290, 295, 300, 305, 310, 315, 320, 325, 330, 335, 340, 345, 350, 355, 360, 365, 370, 375, 380, 385, 390, 395, 400, 405, 410, 415, 420, 425, 430, 435, 440, 445, 450, 455, 460, 465, 470, 475, 480, 485, 490, 495]\n",
      "\n",
      "sum of multiples of 5 below 500 is:  24750\n"
     ]
    }
   ],
   "source": [
    "mul_5=[]\n",
    "for i in range(500):\n",
    "    if i%5==0:\n",
    "        mul_5.append(i)\n",
    "print(mul_5) \n",
    "print()\n",
    "print(\"sum of multiples of 5 below 500 is: \", sum(mul_5))\n",
    "        "
   ]
  },
  {
   "cell_type": "markdown",
   "id": "bae5e108",
   "metadata": {},
   "source": [
    "# 5. To write a Python program to find first 'n' prime numbers from a list of given numbers."
   ]
  },
  {
   "cell_type": "code",
   "execution_count": 36,
   "id": "78823ae8",
   "metadata": {},
   "outputs": [
    {
     "name": "stdout",
     "output_type": "stream",
     "text": [
      "Enter a number:9\n",
      "Prime numbers: [3, 5, 7, 9, 13, 17, 19, 29, 33]\n"
     ]
    }
   ],
   "source": [
    "def prime(n):\n",
    "    if n<=1:\n",
    "        return False\n",
    "    for i in range(2,n):\n",
    "        if(n%i==0):\n",
    "            return False\n",
    "        else:\n",
    "            return True\n",
    "        \n",
    "\n",
    "        \n",
    "lst = [3, 5, 7, 9, 13, 17, 19, 29, 33, 37, 41, 43, 47, 51, 55, 62]\n",
    "prime_nums = []\n",
    "\n",
    "num = 1\n",
    "n = int(input(\"Enter a number:\"))\n",
    "\n",
    "while len(prime_nums) < n:\n",
    "    if num in lst and prime(num):\n",
    "        \n",
    "        prime_nums.append(num)\n",
    "    num += 1\n",
    "\n",
    "print(\"Prime numbers:\", prime_nums)\n",
    "\n",
    "\n",
    "\n",
    "        \n",
    "        "
   ]
  },
  {
   "cell_type": "markdown",
   "id": "bde0c10e",
   "metadata": {},
   "source": [
    "# 6. To write a Python program to compute matrix multiplication."
   ]
  },
  {
   "cell_type": "code",
   "execution_count": null,
   "id": "8b2bfd65",
   "metadata": {},
   "outputs": [],
   "source": []
  },
  {
   "cell_type": "markdown",
   "id": "6e725a2b",
   "metadata": {},
   "source": [
    "# 7. Write a python Function to count the number of vowels in a string."
   ]
  },
  {
   "cell_type": "code",
   "execution_count": 38,
   "id": "aa98bd07",
   "metadata": {},
   "outputs": [
    {
     "name": "stdout",
     "output_type": "stream",
     "text": [
      "3\n"
     ]
    }
   ],
   "source": [
    "def count_vowels(s):\n",
    "    \n",
    "    count=0\n",
    "    vowels='aeiou'\n",
    "    \n",
    "    for i in s:\n",
    "        if i in vowels:\n",
    "            count+=1\n",
    "    return count\n",
    "print(count_vowels('helloworld'))\n",
    "            "
   ]
  },
  {
   "cell_type": "markdown",
   "id": "41fc131d",
   "metadata": {},
   "source": [
    "# 8. Write a python Function for finding factorial for the given number using a recursive function."
   ]
  },
  {
   "cell_type": "code",
   "execution_count": 40,
   "id": "8c508985",
   "metadata": {},
   "outputs": [
    {
     "name": "stdout",
     "output_type": "stream",
     "text": [
      "enter a num: 5\n",
      "120\n"
     ]
    }
   ],
   "source": [
    "def fact(n):\n",
    "    if n==1:\n",
    "        return n\n",
    "    else:\n",
    "        return n *fact(n-1)\n",
    "    \n",
    "n=int(input('enter a num: '))    \n",
    "print(fact(n))    \n",
    "    "
   ]
  },
  {
   "cell_type": "markdown",
   "id": "6523dd06",
   "metadata": {},
   "source": [
    "# 9. Write a python Function for generating the Fibonacci series using the function."
   ]
  },
  {
   "cell_type": "code",
   "execution_count": 48,
   "id": "bf910f00",
   "metadata": {},
   "outputs": [
    {
     "name": "stdout",
     "output_type": "stream",
     "text": [
      "enter a num: 7\n",
      "finonacci series:  [0, 1, 1, 2, 3, 5, 8]\n"
     ]
    }
   ],
   "source": [
    "def fibonocci(n):\n",
    "    a,b=0,1\n",
    "    fib_series=[]\n",
    "    for i in range(n):\n",
    "        fib_series.append(a)\n",
    "        a,b=b,a+b\n",
    "    return fib_series\n",
    "n=int(input('enter a num: '))\n",
    "print('finonacci series: ', fibonocci(n))"
   ]
  },
  {
   "cell_type": "markdown",
   "id": "28bd3919",
   "metadata": {},
   "source": [
    "# 10. Python program to display the given integer in reverse order using the function without an in- built function."
   ]
  },
  {
   "cell_type": "code",
   "execution_count": 51,
   "id": "6c29c10f",
   "metadata": {},
   "outputs": [
    {
     "name": "stdout",
     "output_type": "stream",
     "text": [
      "98325\n",
      "52389\n"
     ]
    }
   ],
   "source": [
    "n= int(input())\n",
    "rev=0\n",
    "if n>0:\n",
    "    while n>0:\n",
    "        rev=(rev*10)+(n%10)\n",
    "        n=n//10\n",
    "print(rev)    "
   ]
  },
  {
   "cell_type": "markdown",
   "id": "e95d648f",
   "metadata": {},
   "source": [
    "# 11. Write a Python Function to display all integers within the range 200-300 whose sum of digits is an even number."
   ]
  },
  {
   "cell_type": "code",
   "execution_count": 10,
   "id": "5b5ea55a",
   "metadata": {},
   "outputs": [
    {
     "ename": "TypeError",
     "evalue": "'int' object is not callable",
     "output_type": "error",
     "traceback": [
      "\u001b[1;31m---------------------------------------------------------------------------\u001b[0m",
      "\u001b[1;31mTypeError\u001b[0m                                 Traceback (most recent call last)",
      "Cell \u001b[1;32mIn[10], line 2\u001b[0m\n\u001b[0;32m      1\u001b[0m \u001b[38;5;28;01mfor\u001b[39;00m num \u001b[38;5;129;01min\u001b[39;00m \u001b[38;5;28mrange\u001b[39m(\u001b[38;5;241m200\u001b[39m, \u001b[38;5;241m301\u001b[39m):\n\u001b[1;32m----> 2\u001b[0m     digit_sum \u001b[38;5;241m=\u001b[39m \u001b[38;5;28msum\u001b[39m(\u001b[38;5;28mint\u001b[39m(digit) \u001b[38;5;28;01mfor\u001b[39;00m digit \u001b[38;5;129;01min\u001b[39;00m \u001b[38;5;28mstr\u001b[39m(num))\n\u001b[0;32m      4\u001b[0m     \u001b[38;5;28;01mif\u001b[39;00m digit_sum \u001b[38;5;241m%\u001b[39m \u001b[38;5;241m2\u001b[39m \u001b[38;5;241m==\u001b[39m \u001b[38;5;241m0\u001b[39m:\n\u001b[0;32m      5\u001b[0m         \u001b[38;5;28mprint\u001b[39m(num, end\u001b[38;5;241m=\u001b[39m\u001b[38;5;124m\"\u001b[39m\u001b[38;5;124m \u001b[39m\u001b[38;5;124m\"\u001b[39m)\n",
      "\u001b[1;31mTypeError\u001b[0m: 'int' object is not callable"
     ]
    }
   ],
   "source": [
    "for num in range(200, 301):\n",
    "    digit_sum = sum(int(digit) for digit in str(num))\n",
    "    \n",
    "    if digit_sum % 2 == 0:\n",
    "        print(num, end=\" \")\n",
    "\n",
    "\n"
   ]
  },
  {
   "cell_type": "markdown",
   "id": "b36f479f",
   "metadata": {},
   "source": [
    "# 12. Write a python Function to find the number of digits and sum of digits for a giveninteger."
   ]
  },
  {
   "cell_type": "code",
   "execution_count": 8,
   "id": "8965a13f",
   "metadata": {},
   "outputs": [
    {
     "name": "stdout",
     "output_type": "stream",
     "text": [
      "enter a number: 173\n",
      "sum of digits:  11\n",
      "count of digits:  3\n"
     ]
    }
   ],
   "source": [
    "def sum_and_count(num):\n",
    "    digits_sum=0\n",
    "    digits=0\n",
    "    while num > 0:\n",
    "        d=num%10\n",
    "        digits+=1\n",
    "        digits_sum+=d\n",
    "        num = num//10\n",
    "    return digits_sum, digits\n",
    "\n",
    "n=int(input('enter a number: '))\n",
    "sum,count=sum_and_count(n)\n",
    "print('sum of digits: ', sum)\n",
    "print('count of digits: ', count)\n",
    "        \n",
    "        \n",
    "        "
   ]
  },
  {
   "cell_type": "markdown",
   "id": "1e14df4f",
   "metadata": {},
   "source": [
    "# 13. Write functions called is _sorted that takes a list as a parameter and returns True if the list is sorted in ascending order and False otherwise and has_ duplicates that takes a list and returns True ifthere is any element that appears more than once. It should not modify the original list."
   ]
  },
  {
   "cell_type": "code",
   "execution_count": 14,
   "id": "136eada1",
   "metadata": {},
   "outputs": [
    {
     "name": "stdout",
     "output_type": "stream",
     "text": [
      "Is my_list sorted: True\n",
      "Does my_list have duplicates: True\n"
     ]
    }
   ],
   "source": [
    "def is_sorted(lst):\n",
    "    \n",
    "    return lst == sorted(lst)\n",
    "\n",
    "def duplicates(lst):\n",
    "    \n",
    "    return len(lst) != len(set(lst))\n",
    "\n",
    "\n",
    "my_list = [1, 2, 3, 4, 5]\n",
    "print(\"Is my_list sorted:\", is_sorted(my_list))\n",
    "\n",
    "my_list_with_duplicates = [1, 2, 2, 3, 4]\n",
    "print(\"Does my_list have duplicates:\", duplicates(my_list_with_duplicates))"
   ]
  },
  {
   "cell_type": "code",
   "execution_count": null,
   "id": "1b20f74e",
   "metadata": {},
   "outputs": [],
   "source": []
  }
 ],
 "metadata": {
  "kernelspec": {
   "display_name": "Python 3 (ipykernel)",
   "language": "python",
   "name": "python3"
  },
  "language_info": {
   "codemirror_mode": {
    "name": "ipython",
    "version": 3
   },
   "file_extension": ".py",
   "mimetype": "text/x-python",
   "name": "python",
   "nbconvert_exporter": "python",
   "pygments_lexer": "ipython3",
   "version": "3.11.4"
  }
 },
 "nbformat": 4,
 "nbformat_minor": 5
}
